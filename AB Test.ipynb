{
 "cells": [
  {
   "cell_type": "markdown",
   "metadata": {},
   "source": [
    "# A/B Test\n",
    "\n",
    "## Project Description\n",
    "\n",
    "We've received an analytical task from an international online store. The predecessor failed to complete it: they launched an A/B test and then quit. They left only the technical specifications and the test results.\n",
    "\n",
    "## Technical description\n",
    "\n",
    "* Test name: recommender_system_test\n",
    "* Groups: А (control), B (new payment funnel)\n",
    "* Launch date: 2020-12-07\n",
    "* The date when they stopped taking up new users: 2020-12-21\n",
    "* End date: 2021-01-01\n",
    "* Audience: 15% of the new users from the EU region\n",
    "* Purpose of the test: testing changes related to the introduction of an improved recommendation system\n",
    "* Expected result: within 14 days of signing up, users will show better conversion into product page views (the product_page event), product card views (product_card) and purchases (purchase). At each of the stage of the funnel product_page → product_card → purchase, there will be at least a 10% increase.\n",
    "* Expected number of test participants: 6000\n",
    "\n",
    "## Study Goals:\n",
    "\n",
    "* Download and preprocess test data\n",
    "* Determine whether the A/B test was performed correctly.\n",
    "* Analyze the results.\n",
    "* Provide insights and recommendations to the client."
   ]
  },
  {
   "cell_type": "markdown",
   "metadata": {},
   "source": [
    "## 1. Load files and analyze general information"
   ]
  },
  {
   "cell_type": "code",
   "execution_count": 29,
   "metadata": {},
   "outputs": [],
   "source": [
    "# load libraries\n",
    "import pandas as pd\n",
    "import numpy as np\n",
    "import datetime as dt\n",
    "import math\n",
    "from scipy import stats as st\n",
    "from matplotlib import pyplot as plt\n",
    "import seaborn as sns\n",
    "from plotly import graph_objects as go\n",
    "from statsmodels.stats.proportion import proportions_ztest\n",
    "import warnings\n",
    "warnings.filterwarnings(\"ignore\")\n"
   ]
  },
  {
   "cell_type": "code",
   "execution_count": 30,
   "metadata": {},
   "outputs": [],
   "source": [
    "# load files\n",
    "marketing_events = pd.read_csv('/datasets/ab_project_marketing_events_us.csv', parse_dates = ['start_dt', 'finish_dt'])\n",
    "new_users = pd.read_csv('/datasets/final_ab_new_users_upd_us.csv', parse_dates = ['first_date'])\n",
    "events = pd.read_csv('/datasets/final_ab_events_upd_us.csv', parse_dates = ['event_dt'])\n",
    "participants = pd.read_csv('/datasets/final_ab_participants_upd_us.csv')\n"
   ]
  },
  {
   "cell_type": "code",
   "execution_count": 31,
   "metadata": {},
   "outputs": [
    {
     "data": {
      "text/html": [
       "<div>\n",
       "<style scoped>\n",
       "    .dataframe tbody tr th:only-of-type {\n",
       "        vertical-align: middle;\n",
       "    }\n",
       "\n",
       "    .dataframe tbody tr th {\n",
       "        vertical-align: top;\n",
       "    }\n",
       "\n",
       "    .dataframe thead th {\n",
       "        text-align: right;\n",
       "    }\n",
       "</style>\n",
       "<table border=\"1\" class=\"dataframe\">\n",
       "  <thead>\n",
       "    <tr style=\"text-align: right;\">\n",
       "      <th></th>\n",
       "      <th>name</th>\n",
       "      <th>regions</th>\n",
       "      <th>start_dt</th>\n",
       "      <th>finish_dt</th>\n",
       "    </tr>\n",
       "  </thead>\n",
       "  <tbody>\n",
       "    <tr>\n",
       "      <th>0</th>\n",
       "      <td>Christmas&amp;New Year Promo</td>\n",
       "      <td>EU, N.America</td>\n",
       "      <td>2020-12-25</td>\n",
       "      <td>2021-01-03</td>\n",
       "    </tr>\n",
       "    <tr>\n",
       "      <th>1</th>\n",
       "      <td>St. Valentine's Day Giveaway</td>\n",
       "      <td>EU, CIS, APAC, N.America</td>\n",
       "      <td>2020-02-14</td>\n",
       "      <td>2020-02-16</td>\n",
       "    </tr>\n",
       "    <tr>\n",
       "      <th>2</th>\n",
       "      <td>St. Patric's Day Promo</td>\n",
       "      <td>EU, N.America</td>\n",
       "      <td>2020-03-17</td>\n",
       "      <td>2020-03-19</td>\n",
       "    </tr>\n",
       "    <tr>\n",
       "      <th>3</th>\n",
       "      <td>Easter Promo</td>\n",
       "      <td>EU, CIS, APAC, N.America</td>\n",
       "      <td>2020-04-12</td>\n",
       "      <td>2020-04-19</td>\n",
       "    </tr>\n",
       "    <tr>\n",
       "      <th>4</th>\n",
       "      <td>4th of July Promo</td>\n",
       "      <td>N.America</td>\n",
       "      <td>2020-07-04</td>\n",
       "      <td>2020-07-11</td>\n",
       "    </tr>\n",
       "  </tbody>\n",
       "</table>\n",
       "</div>"
      ],
      "text/plain": [
       "                           name                   regions   start_dt  \\\n",
       "0      Christmas&New Year Promo             EU, N.America 2020-12-25   \n",
       "1  St. Valentine's Day Giveaway  EU, CIS, APAC, N.America 2020-02-14   \n",
       "2        St. Patric's Day Promo             EU, N.America 2020-03-17   \n",
       "3                  Easter Promo  EU, CIS, APAC, N.America 2020-04-12   \n",
       "4             4th of July Promo                 N.America 2020-07-04   \n",
       "\n",
       "   finish_dt  \n",
       "0 2021-01-03  \n",
       "1 2020-02-16  \n",
       "2 2020-03-19  \n",
       "3 2020-04-19  \n",
       "4 2020-07-11  "
      ]
     },
     "metadata": {},
     "output_type": "display_data"
    },
    {
     "name": "stdout",
     "output_type": "stream",
     "text": [
      "<class 'pandas.core.frame.DataFrame'>\n",
      "RangeIndex: 14 entries, 0 to 13\n",
      "Data columns (total 4 columns):\n",
      " #   Column     Non-Null Count  Dtype         \n",
      "---  ------     --------------  -----         \n",
      " 0   name       14 non-null     object        \n",
      " 1   regions    14 non-null     object        \n",
      " 2   start_dt   14 non-null     datetime64[ns]\n",
      " 3   finish_dt  14 non-null     datetime64[ns]\n",
      "dtypes: datetime64[ns](2), object(2)\n",
      "memory usage: 576.0+ bytes\n"
     ]
    },
    {
     "data": {
      "text/plain": [
       "None"
      ]
     },
     "metadata": {},
     "output_type": "display_data"
    },
    {
     "name": "stdout",
     "output_type": "stream",
     "text": [
      "\n",
      "\n"
     ]
    },
    {
     "data": {
      "text/html": [
       "<div>\n",
       "<style scoped>\n",
       "    .dataframe tbody tr th:only-of-type {\n",
       "        vertical-align: middle;\n",
       "    }\n",
       "\n",
       "    .dataframe tbody tr th {\n",
       "        vertical-align: top;\n",
       "    }\n",
       "\n",
       "    .dataframe thead th {\n",
       "        text-align: right;\n",
       "    }\n",
       "</style>\n",
       "<table border=\"1\" class=\"dataframe\">\n",
       "  <thead>\n",
       "    <tr style=\"text-align: right;\">\n",
       "      <th></th>\n",
       "      <th>user_id</th>\n",
       "      <th>first_date</th>\n",
       "      <th>region</th>\n",
       "      <th>device</th>\n",
       "    </tr>\n",
       "  </thead>\n",
       "  <tbody>\n",
       "    <tr>\n",
       "      <th>0</th>\n",
       "      <td>D72A72121175D8BE</td>\n",
       "      <td>2020-12-07</td>\n",
       "      <td>EU</td>\n",
       "      <td>PC</td>\n",
       "    </tr>\n",
       "    <tr>\n",
       "      <th>1</th>\n",
       "      <td>F1C668619DFE6E65</td>\n",
       "      <td>2020-12-07</td>\n",
       "      <td>N.America</td>\n",
       "      <td>Android</td>\n",
       "    </tr>\n",
       "    <tr>\n",
       "      <th>2</th>\n",
       "      <td>2E1BF1D4C37EA01F</td>\n",
       "      <td>2020-12-07</td>\n",
       "      <td>EU</td>\n",
       "      <td>PC</td>\n",
       "    </tr>\n",
       "    <tr>\n",
       "      <th>3</th>\n",
       "      <td>50734A22C0C63768</td>\n",
       "      <td>2020-12-07</td>\n",
       "      <td>EU</td>\n",
       "      <td>iPhone</td>\n",
       "    </tr>\n",
       "    <tr>\n",
       "      <th>4</th>\n",
       "      <td>E1BDDCE0DAFA2679</td>\n",
       "      <td>2020-12-07</td>\n",
       "      <td>N.America</td>\n",
       "      <td>iPhone</td>\n",
       "    </tr>\n",
       "  </tbody>\n",
       "</table>\n",
       "</div>"
      ],
      "text/plain": [
       "            user_id first_date     region   device\n",
       "0  D72A72121175D8BE 2020-12-07         EU       PC\n",
       "1  F1C668619DFE6E65 2020-12-07  N.America  Android\n",
       "2  2E1BF1D4C37EA01F 2020-12-07         EU       PC\n",
       "3  50734A22C0C63768 2020-12-07         EU   iPhone\n",
       "4  E1BDDCE0DAFA2679 2020-12-07  N.America   iPhone"
      ]
     },
     "metadata": {},
     "output_type": "display_data"
    },
    {
     "name": "stdout",
     "output_type": "stream",
     "text": [
      "<class 'pandas.core.frame.DataFrame'>\n",
      "RangeIndex: 58703 entries, 0 to 58702\n",
      "Data columns (total 4 columns):\n",
      " #   Column      Non-Null Count  Dtype         \n",
      "---  ------      --------------  -----         \n",
      " 0   user_id     58703 non-null  object        \n",
      " 1   first_date  58703 non-null  datetime64[ns]\n",
      " 2   region      58703 non-null  object        \n",
      " 3   device      58703 non-null  object        \n",
      "dtypes: datetime64[ns](1), object(3)\n",
      "memory usage: 1.8+ MB\n"
     ]
    },
    {
     "data": {
      "text/plain": [
       "None"
      ]
     },
     "metadata": {},
     "output_type": "display_data"
    },
    {
     "name": "stdout",
     "output_type": "stream",
     "text": [
      "\n",
      "\n"
     ]
    },
    {
     "data": {
      "text/html": [
       "<div>\n",
       "<style scoped>\n",
       "    .dataframe tbody tr th:only-of-type {\n",
       "        vertical-align: middle;\n",
       "    }\n",
       "\n",
       "    .dataframe tbody tr th {\n",
       "        vertical-align: top;\n",
       "    }\n",
       "\n",
       "    .dataframe thead th {\n",
       "        text-align: right;\n",
       "    }\n",
       "</style>\n",
       "<table border=\"1\" class=\"dataframe\">\n",
       "  <thead>\n",
       "    <tr style=\"text-align: right;\">\n",
       "      <th></th>\n",
       "      <th>user_id</th>\n",
       "      <th>event_dt</th>\n",
       "      <th>event_name</th>\n",
       "      <th>details</th>\n",
       "    </tr>\n",
       "  </thead>\n",
       "  <tbody>\n",
       "    <tr>\n",
       "      <th>0</th>\n",
       "      <td>E1BDDCE0DAFA2679</td>\n",
       "      <td>2020-12-07 20:22:03</td>\n",
       "      <td>purchase</td>\n",
       "      <td>99.99</td>\n",
       "    </tr>\n",
       "    <tr>\n",
       "      <th>1</th>\n",
       "      <td>7B6452F081F49504</td>\n",
       "      <td>2020-12-07 09:22:53</td>\n",
       "      <td>purchase</td>\n",
       "      <td>9.99</td>\n",
       "    </tr>\n",
       "    <tr>\n",
       "      <th>2</th>\n",
       "      <td>9CD9F34546DF254C</td>\n",
       "      <td>2020-12-07 12:59:29</td>\n",
       "      <td>purchase</td>\n",
       "      <td>4.99</td>\n",
       "    </tr>\n",
       "    <tr>\n",
       "      <th>3</th>\n",
       "      <td>96F27A054B191457</td>\n",
       "      <td>2020-12-07 04:02:40</td>\n",
       "      <td>purchase</td>\n",
       "      <td>4.99</td>\n",
       "    </tr>\n",
       "    <tr>\n",
       "      <th>4</th>\n",
       "      <td>1FD7660FDF94CA1F</td>\n",
       "      <td>2020-12-07 10:15:09</td>\n",
       "      <td>purchase</td>\n",
       "      <td>4.99</td>\n",
       "    </tr>\n",
       "  </tbody>\n",
       "</table>\n",
       "</div>"
      ],
      "text/plain": [
       "            user_id            event_dt event_name  details\n",
       "0  E1BDDCE0DAFA2679 2020-12-07 20:22:03   purchase    99.99\n",
       "1  7B6452F081F49504 2020-12-07 09:22:53   purchase     9.99\n",
       "2  9CD9F34546DF254C 2020-12-07 12:59:29   purchase     4.99\n",
       "3  96F27A054B191457 2020-12-07 04:02:40   purchase     4.99\n",
       "4  1FD7660FDF94CA1F 2020-12-07 10:15:09   purchase     4.99"
      ]
     },
     "metadata": {},
     "output_type": "display_data"
    },
    {
     "name": "stdout",
     "output_type": "stream",
     "text": [
      "<class 'pandas.core.frame.DataFrame'>\n",
      "RangeIndex: 423761 entries, 0 to 423760\n",
      "Data columns (total 4 columns):\n",
      " #   Column      Non-Null Count   Dtype         \n",
      "---  ------      --------------   -----         \n",
      " 0   user_id     423761 non-null  object        \n",
      " 1   event_dt    423761 non-null  datetime64[ns]\n",
      " 2   event_name  423761 non-null  object        \n",
      " 3   details     60314 non-null   float64       \n",
      "dtypes: datetime64[ns](1), float64(1), object(2)\n",
      "memory usage: 12.9+ MB\n"
     ]
    },
    {
     "data": {
      "text/plain": [
       "None"
      ]
     },
     "metadata": {},
     "output_type": "display_data"
    },
    {
     "name": "stdout",
     "output_type": "stream",
     "text": [
      "\n",
      "\n"
     ]
    },
    {
     "data": {
      "text/html": [
       "<div>\n",
       "<style scoped>\n",
       "    .dataframe tbody tr th:only-of-type {\n",
       "        vertical-align: middle;\n",
       "    }\n",
       "\n",
       "    .dataframe tbody tr th {\n",
       "        vertical-align: top;\n",
       "    }\n",
       "\n",
       "    .dataframe thead th {\n",
       "        text-align: right;\n",
       "    }\n",
       "</style>\n",
       "<table border=\"1\" class=\"dataframe\">\n",
       "  <thead>\n",
       "    <tr style=\"text-align: right;\">\n",
       "      <th></th>\n",
       "      <th>user_id</th>\n",
       "      <th>group</th>\n",
       "      <th>ab_test</th>\n",
       "    </tr>\n",
       "  </thead>\n",
       "  <tbody>\n",
       "    <tr>\n",
       "      <th>0</th>\n",
       "      <td>D1ABA3E2887B6A73</td>\n",
       "      <td>A</td>\n",
       "      <td>recommender_system_test</td>\n",
       "    </tr>\n",
       "    <tr>\n",
       "      <th>1</th>\n",
       "      <td>A7A3664BD6242119</td>\n",
       "      <td>A</td>\n",
       "      <td>recommender_system_test</td>\n",
       "    </tr>\n",
       "    <tr>\n",
       "      <th>2</th>\n",
       "      <td>DABC14FDDFADD29E</td>\n",
       "      <td>A</td>\n",
       "      <td>recommender_system_test</td>\n",
       "    </tr>\n",
       "    <tr>\n",
       "      <th>3</th>\n",
       "      <td>04988C5DF189632E</td>\n",
       "      <td>A</td>\n",
       "      <td>recommender_system_test</td>\n",
       "    </tr>\n",
       "    <tr>\n",
       "      <th>4</th>\n",
       "      <td>4FF2998A348C484F</td>\n",
       "      <td>A</td>\n",
       "      <td>recommender_system_test</td>\n",
       "    </tr>\n",
       "  </tbody>\n",
       "</table>\n",
       "</div>"
      ],
      "text/plain": [
       "            user_id group                  ab_test\n",
       "0  D1ABA3E2887B6A73     A  recommender_system_test\n",
       "1  A7A3664BD6242119     A  recommender_system_test\n",
       "2  DABC14FDDFADD29E     A  recommender_system_test\n",
       "3  04988C5DF189632E     A  recommender_system_test\n",
       "4  4FF2998A348C484F     A  recommender_system_test"
      ]
     },
     "metadata": {},
     "output_type": "display_data"
    },
    {
     "name": "stdout",
     "output_type": "stream",
     "text": [
      "<class 'pandas.core.frame.DataFrame'>\n",
      "RangeIndex: 14525 entries, 0 to 14524\n",
      "Data columns (total 3 columns):\n",
      " #   Column   Non-Null Count  Dtype \n",
      "---  ------   --------------  ----- \n",
      " 0   user_id  14525 non-null  object\n",
      " 1   group    14525 non-null  object\n",
      " 2   ab_test  14525 non-null  object\n",
      "dtypes: object(3)\n",
      "memory usage: 340.6+ KB\n"
     ]
    },
    {
     "data": {
      "text/plain": [
       "None"
      ]
     },
     "metadata": {},
     "output_type": "display_data"
    },
    {
     "name": "stdout",
     "output_type": "stream",
     "text": [
      "\n",
      "\n"
     ]
    }
   ],
   "source": [
    "files =  [marketing_events, new_users, events, participants]\n",
    "for file in files:\n",
    "    display(file.head())\n",
    "    display(file.info())\n",
    "    print(\"\\n\")"
   ]
  },
  {
   "cell_type": "markdown",
   "metadata": {},
   "source": [
    "## 2. Data preprocessing\n",
    "\n",
    "\n",
    " We had already y changed the data type for all date columns to datetime. We did that for marketing_events, new_users, and events tables. So, first, we will check for ducplicate rows in all tables"
   ]
  },
  {
   "cell_type": "code",
   "execution_count": 32,
   "metadata": {},
   "outputs": [
    {
     "data": {
      "text/plain": [
       "0"
      ]
     },
     "metadata": {},
     "output_type": "display_data"
    },
    {
     "data": {
      "text/plain": [
       "0"
      ]
     },
     "metadata": {},
     "output_type": "display_data"
    },
    {
     "data": {
      "text/plain": [
       "0"
      ]
     },
     "metadata": {},
     "output_type": "display_data"
    },
    {
     "data": {
      "text/plain": [
       "0"
      ]
     },
     "metadata": {},
     "output_type": "display_data"
    }
   ],
   "source": [
    "file.duplicated().sum()\n",
    "for file in files:\n",
    "    display(file.duplicated().sum())"
   ]
  },
  {
   "cell_type": "markdown",
   "metadata": {},
   "source": [
    "There are no duplicate rows.  From the previous step, we can see that values are missing in the details column in the events table."
   ]
  },
  {
   "cell_type": "code",
   "execution_count": 33,
   "metadata": {},
   "outputs": [
    {
     "data": {
      "text/plain": [
       "event_name\n",
       "login                                 [nan]\n",
       "product_cart                          [nan]\n",
       "product_page                          [nan]\n",
       "purchase        [99.99, 9.99, 4.99, 499.99]\n",
       "Name: details, dtype: object"
      ]
     },
     "execution_count": 33,
     "metadata": {},
     "output_type": "execute_result"
    }
   ],
   "source": [
    "events.groupby('event_name')['details'].unique()\n"
   ]
  },
  {
   "cell_type": "markdown",
   "metadata": {},
   "source": [
    "Other than 'purcharse', we don't have information for the other events. Nothing seems wrong.\n",
    "Analyzing descriptive info for 'new users' and 'events':\n"
   ]
  },
  {
   "cell_type": "code",
   "execution_count": 34,
   "metadata": {},
   "outputs": [
    {
     "name": "stdout",
     "output_type": "stream",
     "text": [
      "Earliest event date: 2020-12-07 00:00:33\n",
      "Latest event date: 2020-12-30 23:36:33\n"
     ]
    }
   ],
   "source": [
    "# Verify application dates\n",
    "print(\"Earliest event date:\", events['event_dt'].min())\n",
    "print(\"Latest event date:\", events['event_dt'].max())\n"
   ]
  },
  {
   "cell_type": "markdown",
   "metadata": {},
   "source": [
    "There are new users later than the specified date of 2020-12-21, up to 2020-12-23. We can see that the last event date is 2020-12-30, compared to the specified date - 2021-01-01. Now let's check the events within those dates:"
   ]
  },
  {
   "cell_type": "code",
   "execution_count": 36,
   "metadata": {},
   "outputs": [],
   "source": [
    "# Filter events within the specified date range\n",
    "events = events[(events['event_dt'] >= '2020-12-07') & (events['event_dt'] <= '2021-01-01')]\n"
   ]
  },
  {
   "cell_type": "markdown",
   "metadata": {},
   "source": [
    "There's two tests. Since we need to study 'interface_eu_test', we'll drop the drop participants of the 'recommender_system_test'"
   ]
  },
  {
   "cell_type": "code",
   "execution_count": null,
   "metadata": {},
   "outputs": [],
   "source": []
  },
  {
   "cell_type": "code",
   "execution_count": 37,
   "metadata": {
    "scrolled": true
   },
   "outputs": [
    {
     "data": {
      "text/html": [
       "<div>\n",
       "<style scoped>\n",
       "    .dataframe tbody tr th:only-of-type {\n",
       "        vertical-align: middle;\n",
       "    }\n",
       "\n",
       "    .dataframe tbody tr th {\n",
       "        vertical-align: top;\n",
       "    }\n",
       "\n",
       "    .dataframe thead th {\n",
       "        text-align: right;\n",
       "    }\n",
       "</style>\n",
       "<table border=\"1\" class=\"dataframe\">\n",
       "  <thead>\n",
       "    <tr style=\"text-align: right;\">\n",
       "      <th></th>\n",
       "      <th>user_id</th>\n",
       "      <th>group</th>\n",
       "    </tr>\n",
       "  </thead>\n",
       "  <tbody>\n",
       "    <tr>\n",
       "      <th>3675</th>\n",
       "      <td>D4E530F6595A05A3</td>\n",
       "      <td>A</td>\n",
       "    </tr>\n",
       "    <tr>\n",
       "      <th>3676</th>\n",
       "      <td>6BCB0F33D3BAB8C2</td>\n",
       "      <td>A</td>\n",
       "    </tr>\n",
       "    <tr>\n",
       "      <th>3677</th>\n",
       "      <td>FB6F6BC119E1DBD5</td>\n",
       "      <td>B</td>\n",
       "    </tr>\n",
       "    <tr>\n",
       "      <th>3678</th>\n",
       "      <td>2D2E7AA539CF348F</td>\n",
       "      <td>B</td>\n",
       "    </tr>\n",
       "    <tr>\n",
       "      <th>3679</th>\n",
       "      <td>4BA448BCE1343C6F</td>\n",
       "      <td>A</td>\n",
       "    </tr>\n",
       "    <tr>\n",
       "      <th>...</th>\n",
       "      <td>...</td>\n",
       "      <td>...</td>\n",
       "    </tr>\n",
       "    <tr>\n",
       "      <th>14520</th>\n",
       "      <td>1D302F8688B91781</td>\n",
       "      <td>B</td>\n",
       "    </tr>\n",
       "    <tr>\n",
       "      <th>14521</th>\n",
       "      <td>3DE51B726983B657</td>\n",
       "      <td>A</td>\n",
       "    </tr>\n",
       "    <tr>\n",
       "      <th>14522</th>\n",
       "      <td>F501F79D332BE86C</td>\n",
       "      <td>A</td>\n",
       "    </tr>\n",
       "    <tr>\n",
       "      <th>14523</th>\n",
       "      <td>63FBE257B05F2245</td>\n",
       "      <td>A</td>\n",
       "    </tr>\n",
       "    <tr>\n",
       "      <th>14524</th>\n",
       "      <td>79F9ABFB029CF724</td>\n",
       "      <td>B</td>\n",
       "    </tr>\n",
       "  </tbody>\n",
       "</table>\n",
       "<p>10850 rows × 2 columns</p>\n",
       "</div>"
      ],
      "text/plain": [
       "                user_id group\n",
       "3675   D4E530F6595A05A3     A\n",
       "3676   6BCB0F33D3BAB8C2     A\n",
       "3677   FB6F6BC119E1DBD5     B\n",
       "3678   2D2E7AA539CF348F     B\n",
       "3679   4BA448BCE1343C6F     A\n",
       "...                 ...   ...\n",
       "14520  1D302F8688B91781     B\n",
       "14521  3DE51B726983B657     A\n",
       "14522  F501F79D332BE86C     A\n",
       "14523  63FBE257B05F2245     A\n",
       "14524  79F9ABFB029CF724     B\n",
       "\n",
       "[10850 rows x 2 columns]"
      ]
     },
     "execution_count": 37,
     "metadata": {},
     "output_type": "execute_result"
    }
   ],
   "source": [
    "participants = participants[participants['ab_test'] == 'interface_eu_test']\n",
    "participants = participants.drop(columns=['ab_test'])\n",
    "participants"
   ]
  },
  {
   "cell_type": "markdown",
   "metadata": {},
   "source": [
    "The test requires a 15% participation of new users from the EU region. Let's verify we indeed comply with that number:"
   ]
  },
  {
   "cell_type": "code",
   "execution_count": 38,
   "metadata": {},
   "outputs": [
    {
     "data": {
      "text/plain": [
       "0.2500230435984883"
      ]
     },
     "execution_count": 38,
     "metadata": {},
     "output_type": "execute_result"
    }
   ],
   "source": [
    "\n",
    "new_users_eu = new_users[new_users['region'] == 'EU']\n",
    "eu_participants = new_users_eu[new_users_eu['user_id'].isin(participants['user_id'])]\n",
    "\n",
    "# Calculate the proportion of unique user_ids in the intersection to the unique user_ids in new_users_eu\n",
    "proportion = eu_participants['user_id'].nunique() / new_users_eu['user_id'].nunique()\n",
    "\n",
    "proportion\n"
   ]
  },
  {
   "cell_type": "markdown",
   "metadata": {},
   "source": [
    "25% of the new users from EU region are participants, while 15% is required in the description, so we can continue with the data.Verifying if we have  common users in both groups as well as the amount of participants for each group:"
   ]
  },
  {
   "cell_type": "code",
   "execution_count": 39,
   "metadata": {},
   "outputs": [
    {
     "data": {
      "text/plain": [
       "0"
      ]
     },
     "execution_count": 39,
     "metadata": {},
     "output_type": "execute_result"
    }
   ],
   "source": [
    "grouped = participants.groupby('user_id')['group'].nunique()\n",
    "\n",
    "#Filter users who are in more than one group\n",
    "filtered = grouped[grouped > 1].shape[0]\n",
    "filtered"
   ]
  },
  {
   "cell_type": "code",
   "execution_count": 40,
   "metadata": {},
   "outputs": [
    {
     "data": {
      "text/plain": [
       "group\n",
       "A    5467\n",
       "B    5383\n",
       "dtype: int64"
      ]
     },
     "execution_count": 40,
     "metadata": {},
     "output_type": "execute_result"
    }
   ],
   "source": [
    "group_counts = participants.groupby('group').size()\n",
    "group_counts"
   ]
  },
  {
   "cell_type": "markdown",
   "metadata": {},
   "source": [
    "There are no users assigned to both groups. We have similar number of participants in both group, and in total much more than the 6000 required. Now We'll merge the dataframes to one:"
   ]
  },
  {
   "cell_type": "code",
   "execution_count": 41,
   "metadata": {},
   "outputs": [
    {
     "data": {
      "text/html": [
       "<div>\n",
       "<style scoped>\n",
       "    .dataframe tbody tr th:only-of-type {\n",
       "        vertical-align: middle;\n",
       "    }\n",
       "\n",
       "    .dataframe tbody tr th {\n",
       "        vertical-align: top;\n",
       "    }\n",
       "\n",
       "    .dataframe thead th {\n",
       "        text-align: right;\n",
       "    }\n",
       "</style>\n",
       "<table border=\"1\" class=\"dataframe\">\n",
       "  <thead>\n",
       "    <tr style=\"text-align: right;\">\n",
       "      <th></th>\n",
       "      <th>user_id</th>\n",
       "      <th>event_dt</th>\n",
       "      <th>event_name</th>\n",
       "      <th>details</th>\n",
       "      <th>group</th>\n",
       "      <th>first_date</th>\n",
       "      <th>region</th>\n",
       "      <th>device</th>\n",
       "    </tr>\n",
       "  </thead>\n",
       "  <tbody>\n",
       "    <tr>\n",
       "      <th>0</th>\n",
       "      <td>96F27A054B191457</td>\n",
       "      <td>2020-12-07 04:02:40</td>\n",
       "      <td>purchase</td>\n",
       "      <td>4.99</td>\n",
       "      <td>B</td>\n",
       "      <td>2020-12-07</td>\n",
       "      <td>EU</td>\n",
       "      <td>iPhone</td>\n",
       "    </tr>\n",
       "    <tr>\n",
       "      <th>1</th>\n",
       "      <td>96F27A054B191457</td>\n",
       "      <td>2020-12-08 09:43:14</td>\n",
       "      <td>purchase</td>\n",
       "      <td>4.99</td>\n",
       "      <td>B</td>\n",
       "      <td>2020-12-07</td>\n",
       "      <td>EU</td>\n",
       "      <td>iPhone</td>\n",
       "    </tr>\n",
       "    <tr>\n",
       "      <th>2</th>\n",
       "      <td>96F27A054B191457</td>\n",
       "      <td>2020-12-09 00:44:10</td>\n",
       "      <td>purchase</td>\n",
       "      <td>4.99</td>\n",
       "      <td>B</td>\n",
       "      <td>2020-12-07</td>\n",
       "      <td>EU</td>\n",
       "      <td>iPhone</td>\n",
       "    </tr>\n",
       "    <tr>\n",
       "      <th>3</th>\n",
       "      <td>96F27A054B191457</td>\n",
       "      <td>2020-12-26 00:33:57</td>\n",
       "      <td>purchase</td>\n",
       "      <td>9.99</td>\n",
       "      <td>B</td>\n",
       "      <td>2020-12-07</td>\n",
       "      <td>EU</td>\n",
       "      <td>iPhone</td>\n",
       "    </tr>\n",
       "    <tr>\n",
       "      <th>4</th>\n",
       "      <td>96F27A054B191457</td>\n",
       "      <td>2020-12-07 04:02:41</td>\n",
       "      <td>product_page</td>\n",
       "      <td>NaN</td>\n",
       "      <td>B</td>\n",
       "      <td>2020-12-07</td>\n",
       "      <td>EU</td>\n",
       "      <td>iPhone</td>\n",
       "    </tr>\n",
       "  </tbody>\n",
       "</table>\n",
       "</div>"
      ],
      "text/plain": [
       "            user_id            event_dt    event_name  details group  \\\n",
       "0  96F27A054B191457 2020-12-07 04:02:40      purchase     4.99     B   \n",
       "1  96F27A054B191457 2020-12-08 09:43:14      purchase     4.99     B   \n",
       "2  96F27A054B191457 2020-12-09 00:44:10      purchase     4.99     B   \n",
       "3  96F27A054B191457 2020-12-26 00:33:57      purchase     9.99     B   \n",
       "4  96F27A054B191457 2020-12-07 04:02:41  product_page      NaN     B   \n",
       "\n",
       "  first_date region  device  \n",
       "0 2020-12-07     EU  iPhone  \n",
       "1 2020-12-07     EU  iPhone  \n",
       "2 2020-12-07     EU  iPhone  \n",
       "3 2020-12-07     EU  iPhone  \n",
       "4 2020-12-07     EU  iPhone  "
      ]
     },
     "metadata": {},
     "output_type": "display_data"
    },
    {
     "data": {
      "text/plain": [
       "(78929, 8)"
      ]
     },
     "execution_count": 41,
     "metadata": {},
     "output_type": "execute_result"
    }
   ],
   "source": [
    "final_df = events.merge (participants, on = 'user_id', how = 'inner')\n",
    "final_df = final_df.merge(new_users, on='user_id', how='inner')\n",
    "display(final_df.head())\n",
    "final_df.shape"
   ]
  },
  {
   "cell_type": "code",
   "execution_count": 42,
   "metadata": {
    "scrolled": true
   },
   "outputs": [
    {
     "data": {
      "text/plain": [
       "group\n",
       "A    5467\n",
       "B    5383\n",
       "Name: user_id, dtype: int64"
      ]
     },
     "execution_count": 42,
     "metadata": {},
     "output_type": "execute_result"
    }
   ],
   "source": [
    "final_df.groupby('group')['user_id'].nunique()"
   ]
  },
  {
   "cell_type": "markdown",
   "metadata": {},
   "source": [
    "**Filtering Relevant Events and Considering the First 14 Days**"
   ]
  },
  {
   "cell_type": "code",
   "execution_count": 43,
   "metadata": {},
   "outputs": [
    {
     "data": {
      "text/html": [
       "<div>\n",
       "<style scoped>\n",
       "    .dataframe tbody tr th:only-of-type {\n",
       "        vertical-align: middle;\n",
       "    }\n",
       "\n",
       "    .dataframe tbody tr th {\n",
       "        vertical-align: top;\n",
       "    }\n",
       "\n",
       "    .dataframe thead th {\n",
       "        text-align: right;\n",
       "    }\n",
       "</style>\n",
       "<table border=\"1\" class=\"dataframe\">\n",
       "  <thead>\n",
       "    <tr style=\"text-align: right;\">\n",
       "      <th></th>\n",
       "      <th>user_id</th>\n",
       "      <th>event_dt</th>\n",
       "      <th>event_name</th>\n",
       "      <th>details</th>\n",
       "      <th>group</th>\n",
       "      <th>first_date</th>\n",
       "      <th>region</th>\n",
       "      <th>device</th>\n",
       "    </tr>\n",
       "  </thead>\n",
       "  <tbody>\n",
       "    <tr>\n",
       "      <th>0</th>\n",
       "      <td>96F27A054B191457</td>\n",
       "      <td>2020-12-07 04:02:40</td>\n",
       "      <td>purchase</td>\n",
       "      <td>4.99</td>\n",
       "      <td>B</td>\n",
       "      <td>2020-12-07</td>\n",
       "      <td>EU</td>\n",
       "      <td>iPhone</td>\n",
       "    </tr>\n",
       "    <tr>\n",
       "      <th>1</th>\n",
       "      <td>96F27A054B191457</td>\n",
       "      <td>2020-12-08 09:43:14</td>\n",
       "      <td>purchase</td>\n",
       "      <td>4.99</td>\n",
       "      <td>B</td>\n",
       "      <td>2020-12-07</td>\n",
       "      <td>EU</td>\n",
       "      <td>iPhone</td>\n",
       "    </tr>\n",
       "    <tr>\n",
       "      <th>2</th>\n",
       "      <td>96F27A054B191457</td>\n",
       "      <td>2020-12-09 00:44:10</td>\n",
       "      <td>purchase</td>\n",
       "      <td>4.99</td>\n",
       "      <td>B</td>\n",
       "      <td>2020-12-07</td>\n",
       "      <td>EU</td>\n",
       "      <td>iPhone</td>\n",
       "    </tr>\n",
       "    <tr>\n",
       "      <th>4</th>\n",
       "      <td>96F27A054B191457</td>\n",
       "      <td>2020-12-07 04:02:41</td>\n",
       "      <td>product_page</td>\n",
       "      <td>NaN</td>\n",
       "      <td>B</td>\n",
       "      <td>2020-12-07</td>\n",
       "      <td>EU</td>\n",
       "      <td>iPhone</td>\n",
       "    </tr>\n",
       "    <tr>\n",
       "      <th>5</th>\n",
       "      <td>96F27A054B191457</td>\n",
       "      <td>2020-12-08 09:43:18</td>\n",
       "      <td>product_page</td>\n",
       "      <td>NaN</td>\n",
       "      <td>B</td>\n",
       "      <td>2020-12-07</td>\n",
       "      <td>EU</td>\n",
       "      <td>iPhone</td>\n",
       "    </tr>\n",
       "    <tr>\n",
       "      <th>6</th>\n",
       "      <td>96F27A054B191457</td>\n",
       "      <td>2020-12-09 00:44:10</td>\n",
       "      <td>product_page</td>\n",
       "      <td>NaN</td>\n",
       "      <td>B</td>\n",
       "      <td>2020-12-07</td>\n",
       "      <td>EU</td>\n",
       "      <td>iPhone</td>\n",
       "    </tr>\n",
       "    <tr>\n",
       "      <th>8</th>\n",
       "      <td>96F27A054B191457</td>\n",
       "      <td>2020-12-07 04:02:40</td>\n",
       "      <td>login</td>\n",
       "      <td>NaN</td>\n",
       "      <td>B</td>\n",
       "      <td>2020-12-07</td>\n",
       "      <td>EU</td>\n",
       "      <td>iPhone</td>\n",
       "    </tr>\n",
       "    <tr>\n",
       "      <th>9</th>\n",
       "      <td>96F27A054B191457</td>\n",
       "      <td>2020-12-08 09:43:14</td>\n",
       "      <td>login</td>\n",
       "      <td>NaN</td>\n",
       "      <td>B</td>\n",
       "      <td>2020-12-07</td>\n",
       "      <td>EU</td>\n",
       "      <td>iPhone</td>\n",
       "    </tr>\n",
       "    <tr>\n",
       "      <th>10</th>\n",
       "      <td>96F27A054B191457</td>\n",
       "      <td>2020-12-09 00:44:10</td>\n",
       "      <td>login</td>\n",
       "      <td>NaN</td>\n",
       "      <td>B</td>\n",
       "      <td>2020-12-07</td>\n",
       "      <td>EU</td>\n",
       "      <td>iPhone</td>\n",
       "    </tr>\n",
       "    <tr>\n",
       "      <th>12</th>\n",
       "      <td>A92195E3CFB83DBD</td>\n",
       "      <td>2020-12-07 00:32:07</td>\n",
       "      <td>purchase</td>\n",
       "      <td>4.99</td>\n",
       "      <td>A</td>\n",
       "      <td>2020-12-07</td>\n",
       "      <td>EU</td>\n",
       "      <td>Android</td>\n",
       "    </tr>\n",
       "  </tbody>\n",
       "</table>\n",
       "</div>"
      ],
      "text/plain": [
       "             user_id            event_dt    event_name  details group  \\\n",
       "0   96F27A054B191457 2020-12-07 04:02:40      purchase     4.99     B   \n",
       "1   96F27A054B191457 2020-12-08 09:43:14      purchase     4.99     B   \n",
       "2   96F27A054B191457 2020-12-09 00:44:10      purchase     4.99     B   \n",
       "4   96F27A054B191457 2020-12-07 04:02:41  product_page      NaN     B   \n",
       "5   96F27A054B191457 2020-12-08 09:43:18  product_page      NaN     B   \n",
       "6   96F27A054B191457 2020-12-09 00:44:10  product_page      NaN     B   \n",
       "8   96F27A054B191457 2020-12-07 04:02:40         login      NaN     B   \n",
       "9   96F27A054B191457 2020-12-08 09:43:14         login      NaN     B   \n",
       "10  96F27A054B191457 2020-12-09 00:44:10         login      NaN     B   \n",
       "12  A92195E3CFB83DBD 2020-12-07 00:32:07      purchase     4.99     A   \n",
       "\n",
       "   first_date region   device  \n",
       "0  2020-12-07     EU   iPhone  \n",
       "1  2020-12-07     EU   iPhone  \n",
       "2  2020-12-07     EU   iPhone  \n",
       "4  2020-12-07     EU   iPhone  \n",
       "5  2020-12-07     EU   iPhone  \n",
       "6  2020-12-07     EU   iPhone  \n",
       "8  2020-12-07     EU   iPhone  \n",
       "9  2020-12-07     EU   iPhone  \n",
       "10 2020-12-07     EU   iPhone  \n",
       "12 2020-12-07     EU  Android  "
      ]
     },
     "execution_count": 43,
     "metadata": {},
     "output_type": "execute_result"
    }
   ],
   "source": [
    "# Filter relevant events for analysis\n",
    "relevant_events = ['login', 'product_page', 'product_cart', 'purchase']\n",
    "final_df = final_df[final_df['event_name'].isin(relevant_events)]\n",
    "\n",
    "# Calculate the end date for each user (first 14 days since registration)\n",
    "final_df['end_date'] = final_df['first_date'] + pd.Timedelta(days=14)\n",
    "\n",
    "# Filter events to consider only the first 14 days since users registered\n",
    "final_df = final_df[final_df['event_dt'] <= final_df['end_date']]\n",
    "\n",
    "# Drop the 'end_date' column as it's no longer needed\n",
    "final_df = final_df.drop(columns=['end_date'])\n",
    "final_df.head(10)"
   ]
  },
  {
   "cell_type": "markdown",
   "metadata": {},
   "source": [
    "## 3. Exploratory Data Analysis (EDA)"
   ]
  },
  {
   "cell_type": "markdown",
   "metadata": {},
   "source": [
    "Checking the logs to see which events occurred and how often they occurred"
   ]
  },
  {
   "cell_type": "code",
   "execution_count": 44,
   "metadata": {},
   "outputs": [
    {
     "data": {
      "text/plain": [
       "login           32438\n",
       "product_page    21336\n",
       "purchase        11148\n",
       "product_cart    10660\n",
       "Name: event_name, dtype: int64"
      ]
     },
     "execution_count": 44,
     "metadata": {},
     "output_type": "execute_result"
    }
   ],
   "source": [
    "final_df['event_name'].value_counts()"
   ]
  },
  {
   "cell_type": "markdown",
   "metadata": {},
   "source": [
    "Let's calculate  the number of unique users who performed each event and the proportion of these users relative to the total number of unique users."
   ]
  },
  {
   "cell_type": "markdown",
   "metadata": {},
   "source": [
    "From the technical description, the event funnel is login > product page > product_cart > purchase. "
   ]
  },
  {
   "cell_type": "code",
   "execution_count": 45,
   "metadata": {
    "scrolled": true
   },
   "outputs": [
    {
     "data": {
      "text/html": [
       "<div>\n",
       "<style scoped>\n",
       "    .dataframe tbody tr th:only-of-type {\n",
       "        vertical-align: middle;\n",
       "    }\n",
       "\n",
       "    .dataframe tbody tr th {\n",
       "        vertical-align: top;\n",
       "    }\n",
       "\n",
       "    .dataframe thead th {\n",
       "        text-align: right;\n",
       "    }\n",
       "</style>\n",
       "<table border=\"1\" class=\"dataframe\">\n",
       "  <thead>\n",
       "    <tr style=\"text-align: right;\">\n",
       "      <th></th>\n",
       "      <th>events</th>\n",
       "      <th>users</th>\n",
       "      <th>share_%</th>\n",
       "    </tr>\n",
       "  </thead>\n",
       "  <tbody>\n",
       "    <tr>\n",
       "      <th>0</th>\n",
       "      <td>login</td>\n",
       "      <td>10847</td>\n",
       "      <td>99.99</td>\n",
       "    </tr>\n",
       "    <tr>\n",
       "      <th>1</th>\n",
       "      <td>product_page</td>\n",
       "      <td>7164</td>\n",
       "      <td>66.04</td>\n",
       "    </tr>\n",
       "    <tr>\n",
       "      <th>2</th>\n",
       "      <td>product_cart</td>\n",
       "      <td>3568</td>\n",
       "      <td>32.89</td>\n",
       "    </tr>\n",
       "    <tr>\n",
       "      <th>3</th>\n",
       "      <td>purchase</td>\n",
       "      <td>3713</td>\n",
       "      <td>34.23</td>\n",
       "    </tr>\n",
       "  </tbody>\n",
       "</table>\n",
       "</div>"
      ],
      "text/plain": [
       "         events  users  share_%\n",
       "0         login  10847    99.99\n",
       "1  product_page   7164    66.04\n",
       "2  product_cart   3568    32.89\n",
       "3      purchase   3713    34.23"
      ]
     },
     "metadata": {},
     "output_type": "display_data"
    },
    {
     "data": {
      "text/html": [
       "<div>\n",
       "<style scoped>\n",
       "    .dataframe tbody tr th:only-of-type {\n",
       "        vertical-align: middle;\n",
       "    }\n",
       "\n",
       "    .dataframe tbody tr th {\n",
       "        vertical-align: top;\n",
       "    }\n",
       "\n",
       "    .dataframe thead th {\n",
       "        text-align: right;\n",
       "    }\n",
       "</style>\n",
       "<table border=\"1\" class=\"dataframe\">\n",
       "  <thead>\n",
       "    <tr style=\"text-align: right;\">\n",
       "      <th></th>\n",
       "      <th>events</th>\n",
       "      <th>users</th>\n",
       "      <th>share_%</th>\n",
       "    </tr>\n",
       "  </thead>\n",
       "  <tbody>\n",
       "    <tr>\n",
       "      <th>0</th>\n",
       "      <td>login</td>\n",
       "      <td>5465</td>\n",
       "      <td>99.98</td>\n",
       "    </tr>\n",
       "    <tr>\n",
       "      <th>1</th>\n",
       "      <td>product_page</td>\n",
       "      <td>3638</td>\n",
       "      <td>66.56</td>\n",
       "    </tr>\n",
       "    <tr>\n",
       "      <th>2</th>\n",
       "      <td>product_cart</td>\n",
       "      <td>1756</td>\n",
       "      <td>32.13</td>\n",
       "    </tr>\n",
       "    <tr>\n",
       "      <th>3</th>\n",
       "      <td>purchase</td>\n",
       "      <td>1931</td>\n",
       "      <td>35.33</td>\n",
       "    </tr>\n",
       "  </tbody>\n",
       "</table>\n",
       "</div>"
      ],
      "text/plain": [
       "         events  users  share_%\n",
       "0         login   5465    99.98\n",
       "1  product_page   3638    66.56\n",
       "2  product_cart   1756    32.13\n",
       "3      purchase   1931    35.33"
      ]
     },
     "metadata": {},
     "output_type": "display_data"
    },
    {
     "data": {
      "text/html": [
       "<div>\n",
       "<style scoped>\n",
       "    .dataframe tbody tr th:only-of-type {\n",
       "        vertical-align: middle;\n",
       "    }\n",
       "\n",
       "    .dataframe tbody tr th {\n",
       "        vertical-align: top;\n",
       "    }\n",
       "\n",
       "    .dataframe thead th {\n",
       "        text-align: right;\n",
       "    }\n",
       "</style>\n",
       "<table border=\"1\" class=\"dataframe\">\n",
       "  <thead>\n",
       "    <tr style=\"text-align: right;\">\n",
       "      <th></th>\n",
       "      <th>events</th>\n",
       "      <th>users</th>\n",
       "      <th>share_%</th>\n",
       "    </tr>\n",
       "  </thead>\n",
       "  <tbody>\n",
       "    <tr>\n",
       "      <th>0</th>\n",
       "      <td>login</td>\n",
       "      <td>5382</td>\n",
       "      <td>100.00</td>\n",
       "    </tr>\n",
       "    <tr>\n",
       "      <th>1</th>\n",
       "      <td>product_page</td>\n",
       "      <td>3526</td>\n",
       "      <td>65.51</td>\n",
       "    </tr>\n",
       "    <tr>\n",
       "      <th>2</th>\n",
       "      <td>product_cart</td>\n",
       "      <td>1812</td>\n",
       "      <td>33.67</td>\n",
       "    </tr>\n",
       "    <tr>\n",
       "      <th>3</th>\n",
       "      <td>purchase</td>\n",
       "      <td>1782</td>\n",
       "      <td>33.11</td>\n",
       "    </tr>\n",
       "  </tbody>\n",
       "</table>\n",
       "</div>"
      ],
      "text/plain": [
       "         events  users  share_%\n",
       "0         login   5382   100.00\n",
       "1  product_page   3526    65.51\n",
       "2  product_cart   1812    33.67\n",
       "3      purchase   1782    33.11"
      ]
     },
     "metadata": {},
     "output_type": "display_data"
    },
    {
     "data": {
      "application/vnd.plotly.v1+json": {
       "config": {
        "plotlyServerURL": "https://plot.ly"
       },
       "data": [
        {
         "name": "Group A",
         "textinfo": "value+percent initial",
         "type": "funnel",
         "x": [
          5465,
          3638,
          1756,
          1931
         ],
         "y": [
          "login",
          "product_page",
          "product_cart",
          "purchase"
         ]
        },
        {
         "name": "Group B",
         "textinfo": "value+percent initial",
         "type": "funnel",
         "x": [
          5382,
          3526,
          1812,
          1782
         ],
         "y": [
          "login",
          "product_page",
          "product_cart",
          "purchase"
         ]
        }
       ],
       "layout": {
        "template": {
         "data": {
          "bar": [
           {
            "error_x": {
             "color": "#2a3f5f"
            },
            "error_y": {
             "color": "#2a3f5f"
            },
            "marker": {
             "line": {
              "color": "#E5ECF6",
              "width": 0.5
             },
             "pattern": {
              "fillmode": "overlay",
              "size": 10,
              "solidity": 0.2
             }
            },
            "type": "bar"
           }
          ],
          "barpolar": [
           {
            "marker": {
             "line": {
              "color": "#E5ECF6",
              "width": 0.5
             },
             "pattern": {
              "fillmode": "overlay",
              "size": 10,
              "solidity": 0.2
             }
            },
            "type": "barpolar"
           }
          ],
          "carpet": [
           {
            "aaxis": {
             "endlinecolor": "#2a3f5f",
             "gridcolor": "white",
             "linecolor": "white",
             "minorgridcolor": "white",
             "startlinecolor": "#2a3f5f"
            },
            "baxis": {
             "endlinecolor": "#2a3f5f",
             "gridcolor": "white",
             "linecolor": "white",
             "minorgridcolor": "white",
             "startlinecolor": "#2a3f5f"
            },
            "type": "carpet"
           }
          ],
          "choropleth": [
           {
            "colorbar": {
             "outlinewidth": 0,
             "ticks": ""
            },
            "type": "choropleth"
           }
          ],
          "contour": [
           {
            "colorbar": {
             "outlinewidth": 0,
             "ticks": ""
            },
            "colorscale": [
             [
              0,
              "#0d0887"
             ],
             [
              0.1111111111111111,
              "#46039f"
             ],
             [
              0.2222222222222222,
              "#7201a8"
             ],
             [
              0.3333333333333333,
              "#9c179e"
             ],
             [
              0.4444444444444444,
              "#bd3786"
             ],
             [
              0.5555555555555556,
              "#d8576b"
             ],
             [
              0.6666666666666666,
              "#ed7953"
             ],
             [
              0.7777777777777778,
              "#fb9f3a"
             ],
             [
              0.8888888888888888,
              "#fdca26"
             ],
             [
              1,
              "#f0f921"
             ]
            ],
            "type": "contour"
           }
          ],
          "contourcarpet": [
           {
            "colorbar": {
             "outlinewidth": 0,
             "ticks": ""
            },
            "type": "contourcarpet"
           }
          ],
          "heatmap": [
           {
            "colorbar": {
             "outlinewidth": 0,
             "ticks": ""
            },
            "colorscale": [
             [
              0,
              "#0d0887"
             ],
             [
              0.1111111111111111,
              "#46039f"
             ],
             [
              0.2222222222222222,
              "#7201a8"
             ],
             [
              0.3333333333333333,
              "#9c179e"
             ],
             [
              0.4444444444444444,
              "#bd3786"
             ],
             [
              0.5555555555555556,
              "#d8576b"
             ],
             [
              0.6666666666666666,
              "#ed7953"
             ],
             [
              0.7777777777777778,
              "#fb9f3a"
             ],
             [
              0.8888888888888888,
              "#fdca26"
             ],
             [
              1,
              "#f0f921"
             ]
            ],
            "type": "heatmap"
           }
          ],
          "heatmapgl": [
           {
            "colorbar": {
             "outlinewidth": 0,
             "ticks": ""
            },
            "colorscale": [
             [
              0,
              "#0d0887"
             ],
             [
              0.1111111111111111,
              "#46039f"
             ],
             [
              0.2222222222222222,
              "#7201a8"
             ],
             [
              0.3333333333333333,
              "#9c179e"
             ],
             [
              0.4444444444444444,
              "#bd3786"
             ],
             [
              0.5555555555555556,
              "#d8576b"
             ],
             [
              0.6666666666666666,
              "#ed7953"
             ],
             [
              0.7777777777777778,
              "#fb9f3a"
             ],
             [
              0.8888888888888888,
              "#fdca26"
             ],
             [
              1,
              "#f0f921"
             ]
            ],
            "type": "heatmapgl"
           }
          ],
          "histogram": [
           {
            "marker": {
             "pattern": {
              "fillmode": "overlay",
              "size": 10,
              "solidity": 0.2
             }
            },
            "type": "histogram"
           }
          ],
          "histogram2d": [
           {
            "colorbar": {
             "outlinewidth": 0,
             "ticks": ""
            },
            "colorscale": [
             [
              0,
              "#0d0887"
             ],
             [
              0.1111111111111111,
              "#46039f"
             ],
             [
              0.2222222222222222,
              "#7201a8"
             ],
             [
              0.3333333333333333,
              "#9c179e"
             ],
             [
              0.4444444444444444,
              "#bd3786"
             ],
             [
              0.5555555555555556,
              "#d8576b"
             ],
             [
              0.6666666666666666,
              "#ed7953"
             ],
             [
              0.7777777777777778,
              "#fb9f3a"
             ],
             [
              0.8888888888888888,
              "#fdca26"
             ],
             [
              1,
              "#f0f921"
             ]
            ],
            "type": "histogram2d"
           }
          ],
          "histogram2dcontour": [
           {
            "colorbar": {
             "outlinewidth": 0,
             "ticks": ""
            },
            "colorscale": [
             [
              0,
              "#0d0887"
             ],
             [
              0.1111111111111111,
              "#46039f"
             ],
             [
              0.2222222222222222,
              "#7201a8"
             ],
             [
              0.3333333333333333,
              "#9c179e"
             ],
             [
              0.4444444444444444,
              "#bd3786"
             ],
             [
              0.5555555555555556,
              "#d8576b"
             ],
             [
              0.6666666666666666,
              "#ed7953"
             ],
             [
              0.7777777777777778,
              "#fb9f3a"
             ],
             [
              0.8888888888888888,
              "#fdca26"
             ],
             [
              1,
              "#f0f921"
             ]
            ],
            "type": "histogram2dcontour"
           }
          ],
          "mesh3d": [
           {
            "colorbar": {
             "outlinewidth": 0,
             "ticks": ""
            },
            "type": "mesh3d"
           }
          ],
          "parcoords": [
           {
            "line": {
             "colorbar": {
              "outlinewidth": 0,
              "ticks": ""
             }
            },
            "type": "parcoords"
           }
          ],
          "pie": [
           {
            "automargin": true,
            "type": "pie"
           }
          ],
          "scatter": [
           {
            "marker": {
             "colorbar": {
              "outlinewidth": 0,
              "ticks": ""
             }
            },
            "type": "scatter"
           }
          ],
          "scatter3d": [
           {
            "line": {
             "colorbar": {
              "outlinewidth": 0,
              "ticks": ""
             }
            },
            "marker": {
             "colorbar": {
              "outlinewidth": 0,
              "ticks": ""
             }
            },
            "type": "scatter3d"
           }
          ],
          "scattercarpet": [
           {
            "marker": {
             "colorbar": {
              "outlinewidth": 0,
              "ticks": ""
             }
            },
            "type": "scattercarpet"
           }
          ],
          "scattergeo": [
           {
            "marker": {
             "colorbar": {
              "outlinewidth": 0,
              "ticks": ""
             }
            },
            "type": "scattergeo"
           }
          ],
          "scattergl": [
           {
            "marker": {
             "colorbar": {
              "outlinewidth": 0,
              "ticks": ""
             }
            },
            "type": "scattergl"
           }
          ],
          "scattermapbox": [
           {
            "marker": {
             "colorbar": {
              "outlinewidth": 0,
              "ticks": ""
             }
            },
            "type": "scattermapbox"
           }
          ],
          "scatterpolar": [
           {
            "marker": {
             "colorbar": {
              "outlinewidth": 0,
              "ticks": ""
             }
            },
            "type": "scatterpolar"
           }
          ],
          "scatterpolargl": [
           {
            "marker": {
             "colorbar": {
              "outlinewidth": 0,
              "ticks": ""
             }
            },
            "type": "scatterpolargl"
           }
          ],
          "scatterternary": [
           {
            "marker": {
             "colorbar": {
              "outlinewidth": 0,
              "ticks": ""
             }
            },
            "type": "scatterternary"
           }
          ],
          "surface": [
           {
            "colorbar": {
             "outlinewidth": 0,
             "ticks": ""
            },
            "colorscale": [
             [
              0,
              "#0d0887"
             ],
             [
              0.1111111111111111,
              "#46039f"
             ],
             [
              0.2222222222222222,
              "#7201a8"
             ],
             [
              0.3333333333333333,
              "#9c179e"
             ],
             [
              0.4444444444444444,
              "#bd3786"
             ],
             [
              0.5555555555555556,
              "#d8576b"
             ],
             [
              0.6666666666666666,
              "#ed7953"
             ],
             [
              0.7777777777777778,
              "#fb9f3a"
             ],
             [
              0.8888888888888888,
              "#fdca26"
             ],
             [
              1,
              "#f0f921"
             ]
            ],
            "type": "surface"
           }
          ],
          "table": [
           {
            "cells": {
             "fill": {
              "color": "#EBF0F8"
             },
             "line": {
              "color": "white"
             }
            },
            "header": {
             "fill": {
              "color": "#C8D4E3"
             },
             "line": {
              "color": "white"
             }
            },
            "type": "table"
           }
          ]
         },
         "layout": {
          "annotationdefaults": {
           "arrowcolor": "#2a3f5f",
           "arrowhead": 0,
           "arrowwidth": 1
          },
          "autotypenumbers": "strict",
          "coloraxis": {
           "colorbar": {
            "outlinewidth": 0,
            "ticks": ""
           }
          },
          "colorscale": {
           "diverging": [
            [
             0,
             "#8e0152"
            ],
            [
             0.1,
             "#c51b7d"
            ],
            [
             0.2,
             "#de77ae"
            ],
            [
             0.3,
             "#f1b6da"
            ],
            [
             0.4,
             "#fde0ef"
            ],
            [
             0.5,
             "#f7f7f7"
            ],
            [
             0.6,
             "#e6f5d0"
            ],
            [
             0.7,
             "#b8e186"
            ],
            [
             0.8,
             "#7fbc41"
            ],
            [
             0.9,
             "#4d9221"
            ],
            [
             1,
             "#276419"
            ]
           ],
           "sequential": [
            [
             0,
             "#0d0887"
            ],
            [
             0.1111111111111111,
             "#46039f"
            ],
            [
             0.2222222222222222,
             "#7201a8"
            ],
            [
             0.3333333333333333,
             "#9c179e"
            ],
            [
             0.4444444444444444,
             "#bd3786"
            ],
            [
             0.5555555555555556,
             "#d8576b"
            ],
            [
             0.6666666666666666,
             "#ed7953"
            ],
            [
             0.7777777777777778,
             "#fb9f3a"
            ],
            [
             0.8888888888888888,
             "#fdca26"
            ],
            [
             1,
             "#f0f921"
            ]
           ],
           "sequentialminus": [
            [
             0,
             "#0d0887"
            ],
            [
             0.1111111111111111,
             "#46039f"
            ],
            [
             0.2222222222222222,
             "#7201a8"
            ],
            [
             0.3333333333333333,
             "#9c179e"
            ],
            [
             0.4444444444444444,
             "#bd3786"
            ],
            [
             0.5555555555555556,
             "#d8576b"
            ],
            [
             0.6666666666666666,
             "#ed7953"
            ],
            [
             0.7777777777777778,
             "#fb9f3a"
            ],
            [
             0.8888888888888888,
             "#fdca26"
            ],
            [
             1,
             "#f0f921"
            ]
           ]
          },
          "colorway": [
           "#636efa",
           "#EF553B",
           "#00cc96",
           "#ab63fa",
           "#FFA15A",
           "#19d3f3",
           "#FF6692",
           "#B6E880",
           "#FF97FF",
           "#FECB52"
          ],
          "font": {
           "color": "#2a3f5f"
          },
          "geo": {
           "bgcolor": "white",
           "lakecolor": "white",
           "landcolor": "#E5ECF6",
           "showlakes": true,
           "showland": true,
           "subunitcolor": "white"
          },
          "hoverlabel": {
           "align": "left"
          },
          "hovermode": "closest",
          "mapbox": {
           "style": "light"
          },
          "paper_bgcolor": "white",
          "plot_bgcolor": "#E5ECF6",
          "polar": {
           "angularaxis": {
            "gridcolor": "white",
            "linecolor": "white",
            "ticks": ""
           },
           "bgcolor": "#E5ECF6",
           "radialaxis": {
            "gridcolor": "white",
            "linecolor": "white",
            "ticks": ""
           }
          },
          "scene": {
           "xaxis": {
            "backgroundcolor": "#E5ECF6",
            "gridcolor": "white",
            "gridwidth": 2,
            "linecolor": "white",
            "showbackground": true,
            "ticks": "",
            "zerolinecolor": "white"
           },
           "yaxis": {
            "backgroundcolor": "#E5ECF6",
            "gridcolor": "white",
            "gridwidth": 2,
            "linecolor": "white",
            "showbackground": true,
            "ticks": "",
            "zerolinecolor": "white"
           },
           "zaxis": {
            "backgroundcolor": "#E5ECF6",
            "gridcolor": "white",
            "gridwidth": 2,
            "linecolor": "white",
            "showbackground": true,
            "ticks": "",
            "zerolinecolor": "white"
           }
          },
          "shapedefaults": {
           "line": {
            "color": "#2a3f5f"
           }
          },
          "ternary": {
           "aaxis": {
            "gridcolor": "white",
            "linecolor": "white",
            "ticks": ""
           },
           "baxis": {
            "gridcolor": "white",
            "linecolor": "white",
            "ticks": ""
           },
           "bgcolor": "#E5ECF6",
           "caxis": {
            "gridcolor": "white",
            "linecolor": "white",
            "ticks": ""
           }
          },
          "title": {
           "x": 0.05
          },
          "xaxis": {
           "automargin": true,
           "gridcolor": "white",
           "linecolor": "white",
           "ticks": "",
           "title": {
            "standoff": 15
           },
           "zerolinecolor": "white",
           "zerolinewidth": 2
          },
          "yaxis": {
           "automargin": true,
           "gridcolor": "white",
           "linecolor": "white",
           "ticks": "",
           "title": {
            "standoff": 15
           },
           "zerolinecolor": "white",
           "zerolinewidth": 2
          }
         }
        },
        "title": {
         "text": "Sales funnel for experimental groups"
        }
       }
      },
      "text/html": [
       "<div>                            <div id=\"2fcc6de7-d445-4130-ba59-80cfc4b9a430\" class=\"plotly-graph-div\" style=\"height:525px; width:100%;\"></div>            <script type=\"text/javascript\">                require([\"plotly\"], function(Plotly) {                    window.PLOTLYENV=window.PLOTLYENV || {};                                    if (document.getElementById(\"2fcc6de7-d445-4130-ba59-80cfc4b9a430\")) {                    Plotly.newPlot(                        \"2fcc6de7-d445-4130-ba59-80cfc4b9a430\",                        [{\"name\":\"Group A\",\"textinfo\":\"value+percent initial\",\"x\":[5465,3638,1756,1931],\"y\":[\"login\",\"product_page\",\"product_cart\",\"purchase\"],\"type\":\"funnel\"},{\"name\":\"Group B\",\"textinfo\":\"value+percent initial\",\"x\":[5382,3526,1812,1782],\"y\":[\"login\",\"product_page\",\"product_cart\",\"purchase\"],\"type\":\"funnel\"}],                        {\"template\":{\"data\":{\"bar\":[{\"error_x\":{\"color\":\"#2a3f5f\"},\"error_y\":{\"color\":\"#2a3f5f\"},\"marker\":{\"line\":{\"color\":\"#E5ECF6\",\"width\":0.5},\"pattern\":{\"fillmode\":\"overlay\",\"size\":10,\"solidity\":0.2}},\"type\":\"bar\"}],\"barpolar\":[{\"marker\":{\"line\":{\"color\":\"#E5ECF6\",\"width\":0.5},\"pattern\":{\"fillmode\":\"overlay\",\"size\":10,\"solidity\":0.2}},\"type\":\"barpolar\"}],\"carpet\":[{\"aaxis\":{\"endlinecolor\":\"#2a3f5f\",\"gridcolor\":\"white\",\"linecolor\":\"white\",\"minorgridcolor\":\"white\",\"startlinecolor\":\"#2a3f5f\"},\"baxis\":{\"endlinecolor\":\"#2a3f5f\",\"gridcolor\":\"white\",\"linecolor\":\"white\",\"minorgridcolor\":\"white\",\"startlinecolor\":\"#2a3f5f\"},\"type\":\"carpet\"}],\"choropleth\":[{\"colorbar\":{\"outlinewidth\":0,\"ticks\":\"\"},\"type\":\"choropleth\"}],\"contour\":[{\"colorbar\":{\"outlinewidth\":0,\"ticks\":\"\"},\"colorscale\":[[0.0,\"#0d0887\"],[0.1111111111111111,\"#46039f\"],[0.2222222222222222,\"#7201a8\"],[0.3333333333333333,\"#9c179e\"],[0.4444444444444444,\"#bd3786\"],[0.5555555555555556,\"#d8576b\"],[0.6666666666666666,\"#ed7953\"],[0.7777777777777778,\"#fb9f3a\"],[0.8888888888888888,\"#fdca26\"],[1.0,\"#f0f921\"]],\"type\":\"contour\"}],\"contourcarpet\":[{\"colorbar\":{\"outlinewidth\":0,\"ticks\":\"\"},\"type\":\"contourcarpet\"}],\"heatmap\":[{\"colorbar\":{\"outlinewidth\":0,\"ticks\":\"\"},\"colorscale\":[[0.0,\"#0d0887\"],[0.1111111111111111,\"#46039f\"],[0.2222222222222222,\"#7201a8\"],[0.3333333333333333,\"#9c179e\"],[0.4444444444444444,\"#bd3786\"],[0.5555555555555556,\"#d8576b\"],[0.6666666666666666,\"#ed7953\"],[0.7777777777777778,\"#fb9f3a\"],[0.8888888888888888,\"#fdca26\"],[1.0,\"#f0f921\"]],\"type\":\"heatmap\"}],\"heatmapgl\":[{\"colorbar\":{\"outlinewidth\":0,\"ticks\":\"\"},\"colorscale\":[[0.0,\"#0d0887\"],[0.1111111111111111,\"#46039f\"],[0.2222222222222222,\"#7201a8\"],[0.3333333333333333,\"#9c179e\"],[0.4444444444444444,\"#bd3786\"],[0.5555555555555556,\"#d8576b\"],[0.6666666666666666,\"#ed7953\"],[0.7777777777777778,\"#fb9f3a\"],[0.8888888888888888,\"#fdca26\"],[1.0,\"#f0f921\"]],\"type\":\"heatmapgl\"}],\"histogram\":[{\"marker\":{\"pattern\":{\"fillmode\":\"overlay\",\"size\":10,\"solidity\":0.2}},\"type\":\"histogram\"}],\"histogram2d\":[{\"colorbar\":{\"outlinewidth\":0,\"ticks\":\"\"},\"colorscale\":[[0.0,\"#0d0887\"],[0.1111111111111111,\"#46039f\"],[0.2222222222222222,\"#7201a8\"],[0.3333333333333333,\"#9c179e\"],[0.4444444444444444,\"#bd3786\"],[0.5555555555555556,\"#d8576b\"],[0.6666666666666666,\"#ed7953\"],[0.7777777777777778,\"#fb9f3a\"],[0.8888888888888888,\"#fdca26\"],[1.0,\"#f0f921\"]],\"type\":\"histogram2d\"}],\"histogram2dcontour\":[{\"colorbar\":{\"outlinewidth\":0,\"ticks\":\"\"},\"colorscale\":[[0.0,\"#0d0887\"],[0.1111111111111111,\"#46039f\"],[0.2222222222222222,\"#7201a8\"],[0.3333333333333333,\"#9c179e\"],[0.4444444444444444,\"#bd3786\"],[0.5555555555555556,\"#d8576b\"],[0.6666666666666666,\"#ed7953\"],[0.7777777777777778,\"#fb9f3a\"],[0.8888888888888888,\"#fdca26\"],[1.0,\"#f0f921\"]],\"type\":\"histogram2dcontour\"}],\"mesh3d\":[{\"colorbar\":{\"outlinewidth\":0,\"ticks\":\"\"},\"type\":\"mesh3d\"}],\"parcoords\":[{\"line\":{\"colorbar\":{\"outlinewidth\":0,\"ticks\":\"\"}},\"type\":\"parcoords\"}],\"pie\":[{\"automargin\":true,\"type\":\"pie\"}],\"scatter\":[{\"marker\":{\"colorbar\":{\"outlinewidth\":0,\"ticks\":\"\"}},\"type\":\"scatter\"}],\"scatter3d\":[{\"line\":{\"colorbar\":{\"outlinewidth\":0,\"ticks\":\"\"}},\"marker\":{\"colorbar\":{\"outlinewidth\":0,\"ticks\":\"\"}},\"type\":\"scatter3d\"}],\"scattercarpet\":[{\"marker\":{\"colorbar\":{\"outlinewidth\":0,\"ticks\":\"\"}},\"type\":\"scattercarpet\"}],\"scattergeo\":[{\"marker\":{\"colorbar\":{\"outlinewidth\":0,\"ticks\":\"\"}},\"type\":\"scattergeo\"}],\"scattergl\":[{\"marker\":{\"colorbar\":{\"outlinewidth\":0,\"ticks\":\"\"}},\"type\":\"scattergl\"}],\"scattermapbox\":[{\"marker\":{\"colorbar\":{\"outlinewidth\":0,\"ticks\":\"\"}},\"type\":\"scattermapbox\"}],\"scatterpolar\":[{\"marker\":{\"colorbar\":{\"outlinewidth\":0,\"ticks\":\"\"}},\"type\":\"scatterpolar\"}],\"scatterpolargl\":[{\"marker\":{\"colorbar\":{\"outlinewidth\":0,\"ticks\":\"\"}},\"type\":\"scatterpolargl\"}],\"scatterternary\":[{\"marker\":{\"colorbar\":{\"outlinewidth\":0,\"ticks\":\"\"}},\"type\":\"scatterternary\"}],\"surface\":[{\"colorbar\":{\"outlinewidth\":0,\"ticks\":\"\"},\"colorscale\":[[0.0,\"#0d0887\"],[0.1111111111111111,\"#46039f\"],[0.2222222222222222,\"#7201a8\"],[0.3333333333333333,\"#9c179e\"],[0.4444444444444444,\"#bd3786\"],[0.5555555555555556,\"#d8576b\"],[0.6666666666666666,\"#ed7953\"],[0.7777777777777778,\"#fb9f3a\"],[0.8888888888888888,\"#fdca26\"],[1.0,\"#f0f921\"]],\"type\":\"surface\"}],\"table\":[{\"cells\":{\"fill\":{\"color\":\"#EBF0F8\"},\"line\":{\"color\":\"white\"}},\"header\":{\"fill\":{\"color\":\"#C8D4E3\"},\"line\":{\"color\":\"white\"}},\"type\":\"table\"}]},\"layout\":{\"annotationdefaults\":{\"arrowcolor\":\"#2a3f5f\",\"arrowhead\":0,\"arrowwidth\":1},\"autotypenumbers\":\"strict\",\"coloraxis\":{\"colorbar\":{\"outlinewidth\":0,\"ticks\":\"\"}},\"colorscale\":{\"diverging\":[[0,\"#8e0152\"],[0.1,\"#c51b7d\"],[0.2,\"#de77ae\"],[0.3,\"#f1b6da\"],[0.4,\"#fde0ef\"],[0.5,\"#f7f7f7\"],[0.6,\"#e6f5d0\"],[0.7,\"#b8e186\"],[0.8,\"#7fbc41\"],[0.9,\"#4d9221\"],[1,\"#276419\"]],\"sequential\":[[0.0,\"#0d0887\"],[0.1111111111111111,\"#46039f\"],[0.2222222222222222,\"#7201a8\"],[0.3333333333333333,\"#9c179e\"],[0.4444444444444444,\"#bd3786\"],[0.5555555555555556,\"#d8576b\"],[0.6666666666666666,\"#ed7953\"],[0.7777777777777778,\"#fb9f3a\"],[0.8888888888888888,\"#fdca26\"],[1.0,\"#f0f921\"]],\"sequentialminus\":[[0.0,\"#0d0887\"],[0.1111111111111111,\"#46039f\"],[0.2222222222222222,\"#7201a8\"],[0.3333333333333333,\"#9c179e\"],[0.4444444444444444,\"#bd3786\"],[0.5555555555555556,\"#d8576b\"],[0.6666666666666666,\"#ed7953\"],[0.7777777777777778,\"#fb9f3a\"],[0.8888888888888888,\"#fdca26\"],[1.0,\"#f0f921\"]]},\"colorway\":[\"#636efa\",\"#EF553B\",\"#00cc96\",\"#ab63fa\",\"#FFA15A\",\"#19d3f3\",\"#FF6692\",\"#B6E880\",\"#FF97FF\",\"#FECB52\"],\"font\":{\"color\":\"#2a3f5f\"},\"geo\":{\"bgcolor\":\"white\",\"lakecolor\":\"white\",\"landcolor\":\"#E5ECF6\",\"showlakes\":true,\"showland\":true,\"subunitcolor\":\"white\"},\"hoverlabel\":{\"align\":\"left\"},\"hovermode\":\"closest\",\"mapbox\":{\"style\":\"light\"},\"paper_bgcolor\":\"white\",\"plot_bgcolor\":\"#E5ECF6\",\"polar\":{\"angularaxis\":{\"gridcolor\":\"white\",\"linecolor\":\"white\",\"ticks\":\"\"},\"bgcolor\":\"#E5ECF6\",\"radialaxis\":{\"gridcolor\":\"white\",\"linecolor\":\"white\",\"ticks\":\"\"}},\"scene\":{\"xaxis\":{\"backgroundcolor\":\"#E5ECF6\",\"gridcolor\":\"white\",\"gridwidth\":2,\"linecolor\":\"white\",\"showbackground\":true,\"ticks\":\"\",\"zerolinecolor\":\"white\"},\"yaxis\":{\"backgroundcolor\":\"#E5ECF6\",\"gridcolor\":\"white\",\"gridwidth\":2,\"linecolor\":\"white\",\"showbackground\":true,\"ticks\":\"\",\"zerolinecolor\":\"white\"},\"zaxis\":{\"backgroundcolor\":\"#E5ECF6\",\"gridcolor\":\"white\",\"gridwidth\":2,\"linecolor\":\"white\",\"showbackground\":true,\"ticks\":\"\",\"zerolinecolor\":\"white\"}},\"shapedefaults\":{\"line\":{\"color\":\"#2a3f5f\"}},\"ternary\":{\"aaxis\":{\"gridcolor\":\"white\",\"linecolor\":\"white\",\"ticks\":\"\"},\"baxis\":{\"gridcolor\":\"white\",\"linecolor\":\"white\",\"ticks\":\"\"},\"bgcolor\":\"#E5ECF6\",\"caxis\":{\"gridcolor\":\"white\",\"linecolor\":\"white\",\"ticks\":\"\"}},\"title\":{\"x\":0.05},\"xaxis\":{\"automargin\":true,\"gridcolor\":\"white\",\"linecolor\":\"white\",\"ticks\":\"\",\"title\":{\"standoff\":15},\"zerolinecolor\":\"white\",\"zerolinewidth\":2},\"yaxis\":{\"automargin\":true,\"gridcolor\":\"white\",\"linecolor\":\"white\",\"ticks\":\"\",\"title\":{\"standoff\":15},\"zerolinecolor\":\"white\",\"zerolinewidth\":2}}},\"title\":{\"text\":\"Sales funnel for experimental groups\"}},                        {\"responsive\": true}                    ).then(function(){\n",
       "                            \n",
       "var gd = document.getElementById('2fcc6de7-d445-4130-ba59-80cfc4b9a430');\n",
       "var x = new MutationObserver(function (mutations, observer) {{\n",
       "        var display = window.getComputedStyle(gd).display;\n",
       "        if (!display || display === 'none') {{\n",
       "            console.log([gd, 'removed!']);\n",
       "            Plotly.purge(gd);\n",
       "            observer.disconnect();\n",
       "        }}\n",
       "}});\n",
       "\n",
       "// Listen for the removal of the full notebook cells\n",
       "var notebookContainer = gd.closest('#notebook-container');\n",
       "if (notebookContainer) {{\n",
       "    x.observe(notebookContainer, {childList: true});\n",
       "}}\n",
       "\n",
       "// Listen for the clearing of the current output cell\n",
       "var outputEl = gd.closest('.output');\n",
       "if (outputEl) {{\n",
       "    x.observe(outputEl, {childList: true});\n",
       "}}\n",
       "\n",
       "                        })                };                });            </script>        </div>"
      ]
     },
     "metadata": {},
     "output_type": "display_data"
    }
   ],
   "source": [
    "\n",
    "\n",
    "def create_funnel_data(df, group=None):\n",
    "    if group:\n",
    "        df = df[df['group'] == group]\n",
    "    funnel_data = df.groupby('event_name')['user_id'].nunique().reset_index()\n",
    "    funnel_data.columns = ['events', 'users']\n",
    "    total_users = df['user_id'].nunique()\n",
    "    funnel_data['share_%'] = (funnel_data['users'] / total_users * 100).round(2)\n",
    "    \n",
    "    # Ensure the events are in the desired order\n",
    "    event_order = ['login', 'product_page', 'product_cart', 'purchase']\n",
    "    funnel_data['event_order'] = funnel_data['events'].apply(lambda x: event_order.index(x))\n",
    "    funnel_data = funnel_data.sort_values('event_order').drop(columns='event_order').reset_index(drop=True)\n",
    "    \n",
    "    return funnel_data\n",
    "\n",
    "\n",
    "# Create funnel data for all groups\n",
    "events_funnel = create_funnel_data(final_df)\n",
    "\n",
    "# Create funnel data for group A\n",
    "events_funnel_a = create_funnel_data(final_df, group='A')\n",
    "\n",
    "# Create funnel data for group B\n",
    "events_funnel_b = create_funnel_data(final_df, group='B')\n",
    "\n",
    "# Display the funnel data for group A and B to verify\n",
    "display(events_funnel)\n",
    "display(events_funnel_a) \n",
    "display(events_funnel_b)\n",
    "\n",
    "# Plot the funnel for both groups\n",
    "fig = go.Figure()\n",
    "\n",
    "fig.add_trace(go.Funnel(\n",
    "    name='Group A',\n",
    "    y=events_funnel_a['events'],\n",
    "    x=events_funnel_a['users'], \n",
    "    textinfo=\"value+percent initial\"))\n",
    "fig.add_trace(go.Funnel(\n",
    "    name='Group B',\n",
    "    y=events_funnel_b['events'],\n",
    "    x=events_funnel_b['users'], \n",
    "    textinfo=\"value+percent initial\"))\n",
    "\n",
    "fig.update_layout(title='Sales funnel for experimental groups')\n",
    "fig.show()\n"
   ]
  },
  {
   "cell_type": "markdown",
   "metadata": {},
   "source": [
    "Initial Engagement (Login to Product Page):\n",
    "\n",
    "Both groups have similar conversion rates from login to product page view (Group A: 67%, Group B: 66%). This suggests that the initial engagement strategies are similarly effective across both groups.\n",
    "Adding to Cart (Product Page to Product Cart):\n",
    "\n",
    "Group A has a slightly lower conversion rate (32%) compared to Group B (34%). This might indicate that users in Group B find the products or the user interface more compelling to add items to the cart.\n",
    "Completing Purchase (Product Cart to Purchase):\n",
    "\n",
    "Group A shows a higher conversion rate (35%) compared to Group B (33%). This suggests that once users in Group A add items to their cart, they are slightly more likely to complete the purchase than users in Group B. This could be due to better checkout processes, incentives, or fewer obstacles in the purchase flow for Group A."
   ]
  },
  {
   "cell_type": "markdown",
   "metadata": {},
   "source": [
    "**Is the number of events per user distributed equally in the samples?**"
   ]
  },
  {
   "cell_type": "code",
   "execution_count": 46,
   "metadata": {},
   "outputs": [
    {
     "data": {
      "text/html": [
       "<div>\n",
       "<style scoped>\n",
       "    .dataframe tbody tr th:only-of-type {\n",
       "        vertical-align: middle;\n",
       "    }\n",
       "\n",
       "    .dataframe tbody tr th {\n",
       "        vertical-align: top;\n",
       "    }\n",
       "\n",
       "    .dataframe thead th {\n",
       "        text-align: right;\n",
       "    }\n",
       "</style>\n",
       "<table border=\"1\" class=\"dataframe\">\n",
       "  <thead>\n",
       "    <tr style=\"text-align: right;\">\n",
       "      <th></th>\n",
       "      <th>group</th>\n",
       "      <th>num_users</th>\n",
       "      <th>total_events</th>\n",
       "      <th>average_events_per_user</th>\n",
       "    </tr>\n",
       "  </thead>\n",
       "  <tbody>\n",
       "    <tr>\n",
       "      <th>0</th>\n",
       "      <td>A</td>\n",
       "      <td>5466</td>\n",
       "      <td>38386</td>\n",
       "      <td>7.022686</td>\n",
       "    </tr>\n",
       "    <tr>\n",
       "      <th>1</th>\n",
       "      <td>B</td>\n",
       "      <td>5382</td>\n",
       "      <td>37196</td>\n",
       "      <td>6.911185</td>\n",
       "    </tr>\n",
       "  </tbody>\n",
       "</table>\n",
       "</div>"
      ],
      "text/plain": [
       "  group  num_users  total_events  average_events_per_user\n",
       "0     A       5466         38386                 7.022686\n",
       "1     B       5382         37196                 6.911185"
      ]
     },
     "execution_count": 46,
     "metadata": {},
     "output_type": "execute_result"
    }
   ],
   "source": [
    "# Group by 'group' and calculate the number of unique users and total events\n",
    "events_group_per_user = final_df.groupby('group').agg(\n",
    "    num_users=('user_id', 'nunique'), \n",
    "    total_events=('event_dt', 'count')\n",
    ").reset_index()\n",
    "\n",
    "# Calculate the average number of events per user\n",
    "events_group_per_user['average_events_per_user'] = events_group_per_user['total_events'] / events_group_per_user['num_users']\n",
    "\n",
    "\n",
    "events_group_per_user"
   ]
  },
  {
   "cell_type": "markdown",
   "metadata": {},
   "source": [
    "Let's check the relative frequency of each event within each group:"
   ]
  },
  {
   "cell_type": "code",
   "execution_count": 47,
   "metadata": {},
   "outputs": [
    {
     "data": {
      "text/html": [
       "<div>\n",
       "<style scoped>\n",
       "    .dataframe tbody tr th:only-of-type {\n",
       "        vertical-align: middle;\n",
       "    }\n",
       "\n",
       "    .dataframe tbody tr th {\n",
       "        vertical-align: top;\n",
       "    }\n",
       "\n",
       "    .dataframe thead th {\n",
       "        text-align: right;\n",
       "    }\n",
       "</style>\n",
       "<table border=\"1\" class=\"dataframe\">\n",
       "  <thead>\n",
       "    <tr style=\"text-align: right;\">\n",
       "      <th></th>\n",
       "      <th>group</th>\n",
       "      <th>event_name</th>\n",
       "      <th>share</th>\n",
       "    </tr>\n",
       "  </thead>\n",
       "  <tbody>\n",
       "    <tr>\n",
       "      <th>0</th>\n",
       "      <td>A</td>\n",
       "      <td>login</td>\n",
       "      <td>42.74</td>\n",
       "    </tr>\n",
       "    <tr>\n",
       "      <th>1</th>\n",
       "      <td>A</td>\n",
       "      <td>product_page</td>\n",
       "      <td>28.33</td>\n",
       "    </tr>\n",
       "    <tr>\n",
       "      <th>2</th>\n",
       "      <td>A</td>\n",
       "      <td>purchase</td>\n",
       "      <td>15.15</td>\n",
       "    </tr>\n",
       "    <tr>\n",
       "      <th>3</th>\n",
       "      <td>A</td>\n",
       "      <td>product_cart</td>\n",
       "      <td>13.77</td>\n",
       "    </tr>\n",
       "    <tr>\n",
       "      <th>4</th>\n",
       "      <td>B</td>\n",
       "      <td>login</td>\n",
       "      <td>43.10</td>\n",
       "    </tr>\n",
       "    <tr>\n",
       "      <th>5</th>\n",
       "      <td>B</td>\n",
       "      <td>product_page</td>\n",
       "      <td>28.13</td>\n",
       "    </tr>\n",
       "    <tr>\n",
       "      <th>6</th>\n",
       "      <td>B</td>\n",
       "      <td>product_cart</td>\n",
       "      <td>14.45</td>\n",
       "    </tr>\n",
       "    <tr>\n",
       "      <th>7</th>\n",
       "      <td>B</td>\n",
       "      <td>purchase</td>\n",
       "      <td>14.33</td>\n",
       "    </tr>\n",
       "  </tbody>\n",
       "</table>\n",
       "</div>"
      ],
      "text/plain": [
       "  group    event_name  share\n",
       "0     A         login  42.74\n",
       "1     A  product_page  28.33\n",
       "2     A      purchase  15.15\n",
       "3     A  product_cart  13.77\n",
       "4     B         login  43.10\n",
       "5     B  product_page  28.13\n",
       "6     B  product_cart  14.45\n",
       "7     B      purchase  14.33"
      ]
     },
     "execution_count": 47,
     "metadata": {},
     "output_type": "execute_result"
    }
   ],
   "source": [
    "# Group by 'group' and count the value occurrences of 'event_name', normalize to get proportions\n",
    "event_group = final_df.groupby('group')['event_name'].value_counts(normalize=True).reset_index(name='share')\n",
    "event_group['share'] = (event_group['share'] * 100).round(2)\n",
    "\n",
    "event_group"
   ]
  },
  {
   "cell_type": "code",
   "execution_count": 48,
   "metadata": {},
   "outputs": [
    {
     "data": {
      "image/png": "[encoded data removed]",
      "text/plain": [
       "<Figure size 640x480 with 1 Axes>"
      ]
     },
     "metadata": {},
     "output_type": "display_data"
    }
   ],
   "source": [
    "ax = sns.barplot(x=\"event_name\", y=\"share\", hue=\"group\", data=event_group).set_title(\"Events Distribution\")\n",
    "plt.show()"
   ]
  },
  {
   "cell_type": "markdown",
   "metadata": {},
   "source": [
    "We can confirm that the number of events per user distributed equally in the samples. Now we will check for users who have been assigned to multiple groups in an A/B test,  count the number of users who are present in exactly one group within 'final_df'"
   ]
  },
  {
   "cell_type": "markdown",
   "metadata": {},
   "source": [
    "**Are there users included in both samples?** "
   ]
  },
  {
   "cell_type": "code",
   "execution_count": 49,
   "metadata": {},
   "outputs": [
    {
     "data": {
      "text/plain": [
       "0"
      ]
     },
     "execution_count": 49,
     "metadata": {},
     "output_type": "execute_result"
    }
   ],
   "source": [
    "final_df.groupby([\"user_id\"])[\"group\"].nunique().reset_index().query(\"group>1\").shape[0]"
   ]
  },
  {
   "cell_type": "markdown",
   "metadata": {},
   "source": [
    "**How is the number of events distributed by days?**"
   ]
  },
  {
   "cell_type": "code",
   "execution_count": 50,
   "metadata": {},
   "outputs": [
    {
     "data": {
      "text/plain": [
       "10848"
      ]
     },
     "execution_count": 50,
     "metadata": {},
     "output_type": "execute_result"
    }
   ],
   "source": [
    "final_df.groupby([\"user_id\"])[\"group\"].nunique().reset_index().query(\"group==1\").shape[0]"
   ]
  },
  {
   "cell_type": "code",
   "execution_count": 51,
   "metadata": {},
   "outputs": [
    {
     "data": {
      "image/png": "[encoded data removed]",
      "text/plain": [
       "<Figure size 1600x800 with 1 Axes>"
      ]
     },
     "metadata": {},
     "output_type": "display_data"
    }
   ],
   "source": [
    "final_df['event_date']= final_df['event_dt'].dt.date\n",
    "days = final_df.groupby(['event_date']).agg({'user_id':'nunique', 'event_dt':'count'}).reset_index()\n",
    "\n",
    "plt.figure(figsize=(16,8))\n",
    "plt.title('Number of events distribution among days')\n",
    "sns.lineplot(data=days, x='event_date', y='event_dt', label='Events')\n",
    "plt.xlabel('Date')\n",
    "plt.xticks(days.event_date, rotation=90)\n",
    "plt.ylabel('Events')\n",
    "plt.show()"
   ]
  },
  {
   "cell_type": "markdown",
   "metadata": {},
   "source": [
    "The chart displays the distribution of the number of events from December 7, 2020, to December 30, 2020, revealing a clear pattern in user activity. Initially, there is a noticeable increase in the number of events, starting at around 2,000 on December 7 and steadily rising to approximately 4,000 by December 13. This early growth suggests increased user engagement or activities during the first week. The trend continues upward, reaching its peak on December 22 with nearly 6,000 events. This peak, a significant spike in user activity leading up to the holidays, is a standard period for increased online transactions and interactions as users engage more with the app for holiday shopping or end-of-year activities.\n",
    "\n",
    "Following the peak on December 22, there is a noticeable decline in the number of events, dropping to around 4,000 by December 26 and continuing to decrease towards the end of the month. This post-peak decline could be attributed to the holiday season, during which users may be less engaged with the app due to holiday celebrations and vacation periods. By December 30, the number of events falls sharply to around 1,000, suggesting the end of a promotional period, seasonal activities, or a natural decrease in user engagement following the holiday peak. These insights highlight the impact of seasonal trends and holiday periods on user engagement and activity within the page."
   ]
  },
  {
   "cell_type": "code",
   "execution_count": 52,
   "metadata": {},
   "outputs": [
    {
     "data": {
      "image/png": "[encoded data removed]",
      "text/plain": [
       "<Figure size 1600x800 with 1 Axes>"
      ]
     },
     "metadata": {},
     "output_type": "display_data"
    }
   ],
   "source": [
    "final_df[['event_date']] = final_df['event_dt'].dt.date\n",
    "days = final_df.groupby(['event_date', 'group']).agg({'user_id':'nunique', 'event_dt':'count'}).reset_index()\n",
    "plt.figure(figsize=(16,8))\n",
    "plt.title('Number of events distribution among days')\n",
    "sns.lineplot(data=days, x='event_date', y='event_dt', hue=\"group\")\n",
    "plt.xlabel('Date')\n",
    "plt.xticks(days.event_date, rotation=90)\n",
    "plt.ylabel('Events')\n",
    "plt.show()"
   ]
  },
  {
   "cell_type": "markdown",
   "metadata": {},
   "source": [
    "Regarding the distribution of the number of events from December 7, 2020, to December 30, 2020, for both Group A and Group B, both groups follow a similar trend, starting with around 1,000 events on December 7 and showing a steady increase in user activity. The number of events rises sharply around December 13, with Group A and Group B peaking around December 22-23. This peak period shows nearly 3,000 events for each group, indicating heightened user engagement and activity leading to the holidays.\n",
    "\n",
    "Post-peak, both groups experience a noticeable decline in the number of events. The decline begins immediately after December 23, with events decreasing to around 1,500 by December 26 and continuing to drop towards the end of the month. By December 30, the number of events falls below 1,000 for both groups. The parallel trends observed in Group A and Group B suggest that external factors, such as holiday celebrations and vacation periods, equally affect user engagement across both experimental groups. The consistency in the pattern highlights similar user behavior and engagement levels during the observed period, reflecting the impact of seasonal trends on usage."
   ]
  },
  {
   "cell_type": "markdown",
   "metadata": {},
   "source": [
    "## 4. Evaluate the A/B test results"
   ]
  },
  {
   "cell_type": "markdown",
   "metadata": {},
   "source": [
    "**What can you tell about the A/A test results?**"
   ]
  },
  {
   "cell_type": "code",
   "execution_count": 53,
   "metadata": {},
   "outputs": [
    {
     "name": "stdout",
     "output_type": "stream",
     "text": [
      "\n",
      "p-value: 0.4199405903028445\n",
      "Fail to reject H0: there is not significant difference between groups\n"
     ]
    }
   ],
   "source": [
    "alpha = 0.5 / 5\n",
    "pvalue = proportions_ztest(\n",
    "    final_df.query('group == \"A\"')['user_id'].nunique(), \n",
    "    final_df['user_id'].nunique(), value = 0.50)[1]\n",
    "\n",
    "print('\\np-value: {}'.format(pvalue))\n",
    "if pvalue >= alpha: \n",
    "    print('Fail to reject H0: there is not significant difference between groups')\n",
    "else:\n",
    "    print('Reject H0: there is a statistically significant difference between the groups.')"
   ]
  },
  {
   "cell_type": "markdown",
   "metadata": {},
   "source": [
    "**Use the z-criterion to check the statistical difference between the proportions**"
   ]
  },
  {
   "cell_type": "code",
   "execution_count": 54,
   "metadata": {},
   "outputs": [
    {
     "data": {
      "text/html": [
       "<div>\n",
       "<style scoped>\n",
       "    .dataframe tbody tr th:only-of-type {\n",
       "        vertical-align: middle;\n",
       "    }\n",
       "\n",
       "    .dataframe tbody tr th {\n",
       "        vertical-align: top;\n",
       "    }\n",
       "\n",
       "    .dataframe thead th {\n",
       "        text-align: right;\n",
       "    }\n",
       "</style>\n",
       "<table border=\"1\" class=\"dataframe\">\n",
       "  <thead>\n",
       "    <tr style=\"text-align: right;\">\n",
       "      <th>group</th>\n",
       "      <th>event_name</th>\n",
       "      <th>A</th>\n",
       "      <th>B</th>\n",
       "      <th>conversion_%_A</th>\n",
       "      <th>conversion_%_B</th>\n",
       "    </tr>\n",
       "  </thead>\n",
       "  <tbody>\n",
       "    <tr>\n",
       "      <th>0</th>\n",
       "      <td>login</td>\n",
       "      <td>5465</td>\n",
       "      <td>5382</td>\n",
       "      <td>99.98</td>\n",
       "      <td>100.00</td>\n",
       "    </tr>\n",
       "    <tr>\n",
       "      <th>1</th>\n",
       "      <td>product_cart</td>\n",
       "      <td>1756</td>\n",
       "      <td>1812</td>\n",
       "      <td>32.13</td>\n",
       "      <td>33.67</td>\n",
       "    </tr>\n",
       "    <tr>\n",
       "      <th>2</th>\n",
       "      <td>product_page</td>\n",
       "      <td>3638</td>\n",
       "      <td>3526</td>\n",
       "      <td>66.56</td>\n",
       "      <td>65.51</td>\n",
       "    </tr>\n",
       "    <tr>\n",
       "      <th>3</th>\n",
       "      <td>purchase</td>\n",
       "      <td>1931</td>\n",
       "      <td>1782</td>\n",
       "      <td>35.33</td>\n",
       "      <td>33.11</td>\n",
       "    </tr>\n",
       "  </tbody>\n",
       "</table>\n",
       "</div>"
      ],
      "text/plain": [
       "group    event_name     A     B  conversion_%_A  conversion_%_B\n",
       "0             login  5465  5382           99.98          100.00\n",
       "1      product_cart  1756  1812           32.13           33.67\n",
       "2      product_page  3638  3526           66.56           65.51\n",
       "3          purchase  1931  1782           35.33           33.11"
      ]
     },
     "execution_count": 54,
     "metadata": {},
     "output_type": "execute_result"
    }
   ],
   "source": [
    "# Create a pivot table to summarize unique user counts for each event by group\n",
    "pivot = final_df.pivot_table(index='event_name', values='user_id', columns='group', aggfunc='nunique').reset_index()\n",
    "\n",
    "# Calculate the conversion percentages for groups A and B\n",
    "pivot['conversion_%_A'] = ((pivot['A'] / final_df[final_df['group'] == 'A']['user_id'].nunique()) * 100).round(2)\n",
    "pivot['conversion_%_B'] = ((pivot['B'] / final_df[final_df['group'] == 'B']['user_id'].nunique()) * 100).round(2)\n",
    "\n",
    "pivot"
   ]
  },
  {
   "cell_type": "markdown",
   "metadata": {},
   "source": [
    "We establish the hypothesis:\n",
    "\n",
    "**H0:** There is no statistically significant difference between the groups.\n",
    "\n",
    "**H1:** There is a statistically significant difference between the groups.\n",
    "\n",
    "alpha = 0.05"
   ]
  },
  {
   "cell_type": "code",
   "execution_count": 55,
   "metadata": {},
   "outputs": [],
   "source": [
    "def check_hypothesis(group1, group2, event, alpha):\n",
    "    # Extract the number of users who performed the event in each group\n",
    "    successes1 = pivot[pivot['event_name'] == event][group1].iloc[0]\n",
    "    successes2 = pivot[pivot['event_name'] == event][group2].iloc[0]\n",
    "    \n",
    "    # Extract the total number of unique users in each group\n",
    "    trials1 = final_df[final_df['group'] == group1]['user_id'].nunique()\n",
    "    trials2 = final_df[final_df['group'] == group2]['user_id'].nunique()\n",
    "    \n",
    "    # Calculate the proportions of users who performed the event in each group\n",
    "    p1 = successes1 / trials1\n",
    "    p2 = successes2 / trials2\n",
    "    \n",
    "    # Calculate the combined proportion for both groups\n",
    "    p_combined = (successes1 + successes2) / (trials1 + trials2)\n",
    "    \n",
    "    # Calculate the difference between the two proportions\n",
    "    difference = p1 - p2\n",
    "    \n",
    "    # Calculate the z-value for the difference in proportions\n",
    "    z_value = difference / math.sqrt(p_combined * (1 - p_combined) * (1 / trials1 + 1 / trials2))\n",
    "    \n",
    "    # Get the cumulative distribution function of the standard normal distribution\n",
    "    distr = st.norm(0, 1)\n",
    "    \n",
    "    # Calculate the two-tailed p-value from the z-value\n",
    "    p_value = (1 - distr.cdf(abs(z_value))) * 2\n",
    "    \n",
    " # Print the z-value, p-value, and the conclusion of the hypothesis test\n",
    "    print(f'Event: {event}, z-value: {z_value}, p-value: {p_value}')\n",
    "    if p_value < alpha:\n",
    "        print(f'Reject H0 for {event} between groups {group1} and {group2}')\n",
    "        print(f'The z-score for {event} is {z_value}. Since the p-value is less than {alpha}, we reject the null hypothesis. This indicates that there is a statistically significant difference between groups {group1} and {group2} for the {event} event.')\n",
    "    else:\n",
    "        print(f'Fail to reject H0 for {event} between groups {group1} and {group2}')\n",
    "        print(f'The z-score for {event} is {z_value}. Since the p-value is greater than {alpha}, we fail to reject the null hypothesis. This indicates that there is no statistically significant difference between groups {group1} and {group2} for the {event} event.')\n"
   ]
  },
  {
   "cell_type": "code",
   "execution_count": 56,
   "metadata": {},
   "outputs": [
    {
     "name": "stdout",
     "output_type": "stream",
     "text": [
      "Event: login, z-value: -0.9923321252714674, p-value: 0.32103553711445576\n",
      "Fail to reject H0 for login between groups A and B\n",
      "The z-score for login is -0.9923321252714674. Since the p-value is greater than 0.05, we fail to reject the null hypothesis. This indicates that there is no statistically significant difference between groups A and B for the login event.\n",
      "Event: product_cart, z-value: -1.7090828304346526, p-value: 0.08743560749822121\n",
      "Fail to reject H0 for product_cart between groups A and B\n",
      "The z-score for product_cart is -1.7090828304346526. Since the p-value is greater than 0.05, we fail to reject the null hypothesis. This indicates that there is no statistically significant difference between groups A and B for the product_cart event.\n",
      "Event: product_page, z-value: 1.1460477926942088, p-value: 0.2517753775039957\n",
      "Fail to reject H0 for product_page between groups A and B\n",
      "The z-score for product_page is 1.1460477926942088. Since the p-value is greater than 0.05, we fail to reject the null hypothesis. This indicates that there is no statistically significant difference between groups A and B for the product_page event.\n",
      "Event: purchase, z-value: 2.4333774844063067, p-value: 0.014958696783832881\n",
      "Reject H0 for purchase between groups A and B\n",
      "The z-score for purchase is 2.4333774844063067. Since the p-value is less than 0.05, we reject the null hypothesis. This indicates that there is a statistically significant difference between groups A and B for the purchase event.\n"
     ]
    }
   ],
   "source": [
    "# Loop through each event and test the hypothesis\n",
    "for event in pivot['event_name'].unique():\n",
    "    check_hypothesis('A', 'B', event, 0.05)"
   ]
  },
  {
   "cell_type": "markdown",
   "metadata": {},
   "source": [
    "While the changes do not significantly affect earlier stages such as logging in, viewing product pages, or adding items to the cart, they have a meaningful impact on the purchase completion rate. It's the only he only event with statistically significant difference between the samples.\n",
    "\n",
    "However, since we carried out 4 statistical hypothesis tests with statistical significance level of 0.05., the probability of making at least one Type I error (false positive) increases when making comparisons with the same data.  We'll use the Bonferroni procedure to adjust the significance level (alpaha) to account for the number os tests being perfomed. We are performing 4 tests and want to maintain an overall significance level of 0.05, the Bonferroni correction sets the significance level for each individual test to 0.05/4=0.0125"
   ]
  },
  {
   "cell_type": "code",
   "execution_count": 57,
   "metadata": {},
   "outputs": [
    {
     "name": "stdout",
     "output_type": "stream",
     "text": [
      "Event: login, z-value: -0.9923321252714674, p-value: 0.32103553711445576\n",
      "Fail to reject H0 for login between groups A and B\n",
      "The z-score for login is -0.9923321252714674. Since the p-value is greater than 0.0125, we fail to reject the null hypothesis. This indicates that there is no statistically significant difference between groups A and B for the login event.\n",
      "Event: product_cart, z-value: -1.7090828304346526, p-value: 0.08743560749822121\n",
      "Fail to reject H0 for product_cart between groups A and B\n",
      "The z-score for product_cart is -1.7090828304346526. Since the p-value is greater than 0.0125, we fail to reject the null hypothesis. This indicates that there is no statistically significant difference between groups A and B for the product_cart event.\n",
      "Event: product_page, z-value: 1.1460477926942088, p-value: 0.2517753775039957\n",
      "Fail to reject H0 for product_page between groups A and B\n",
      "The z-score for product_page is 1.1460477926942088. Since the p-value is greater than 0.0125, we fail to reject the null hypothesis. This indicates that there is no statistically significant difference between groups A and B for the product_page event.\n",
      "Event: purchase, z-value: 2.4333774844063067, p-value: 0.014958696783832881\n",
      "Fail to reject H0 for purchase between groups A and B\n",
      "The z-score for purchase is 2.4333774844063067. Since the p-value is greater than 0.0125, we fail to reject the null hypothesis. This indicates that there is no statistically significant difference between groups A and B for the purchase event.\n"
     ]
    }
   ],
   "source": [
    "bonferroni_alpha = 0.05 / 4\n",
    "for event in pivot['event_name'].unique():\n",
    "    check_hypothesis('A', 'B', event, bonferroni_alpha)\n"
   ]
  },
  {
   "cell_type": "markdown",
   "metadata": {},
   "source": [
    "After applying the Bonferroni correction, we no longer find a statistically significant difference for the purchase event between Groups A and B. This indicates that the initial finding of a significant difference might have been a false positive due to multiple comparisons."
   ]
  },
  {
   "cell_type": "markdown",
   "metadata": {},
   "source": [
    "## 5. Conclusions"
   ]
  },
  {
   "cell_type": "markdown",
   "metadata": {},
   "source": [
    "\n",
    "**Study Goals:**\n",
    "\n",
    "* Download and preprocess test data\n",
    "* Determine whether the A/B test was performed correctly.\n",
    "* Analyze the results.\n",
    "* Provide insights and recommendations to the client.\n",
    "\n",
    "**Evaluation of A/B Test Execution:**\n",
    "\n",
    "Upon reviewing the data, we identified several issues indicating that the A/B test was not carried out exactly as specified in the technical description:\n",
    "\n",
    "   **Inconsistent User Registration Dates:**\n",
    "    New users registered up to December 23, 2020, which is beyond the specified end date of December 21, 2020.\n",
    "\n",
    "   **Event Dates Discrepancy:** \n",
    "     The last recorded event date was December 30, 2020, rather than the specified completion date of January 1, 2021.\n",
    "\n",
    "   **Irrelevant Test Data:** \n",
    "     Data from another unrelated test, 'recommender_system_test,' was included, potentially affecting the analysis.\n",
    "\n",
    "**Exploratory Data Analysis (EDA) Findings:** \n",
    "\n",
    "    Funnel Analysis:\n",
    "\n",
    "    * Login to Product Page: 66.1% of users who logged in proceeded to view the product page.\n",
    "    * Product Page to Purchase: 51.8% of users who viewed the product page made a purchase.\n",
    "    * Overall Conversion: 34.22% of users completed the journey from login to purchase.\n",
    "    * Add to Cart: 32.88% of users added products to their cart instead of purchasing directly.\n",
    "\n",
    "**Event Distribution:**\n",
    "\n",
    "* Average Events per User: Users had an average of 7.3 events each.\n",
    "* Event Distribution Equality: The number of events per user was equally distributed across the samples.\n",
    "* Temporal Distribution: Significant spikes in event activity were observed on Mondays, December 14 and 21. This pattern suggests heightened activity as users prepared for Christmas, followed by a sharp decline after December 24 (Christmas Eve).\n",
    "\n",
    "\n",
    "**A/B Test Results:**\n",
    "\n",
    "**Statistically Significant Differences:**\n",
    "\n",
    "The only event with a statistically significant difference between Group A and Group B was the 'purchase' event.\n",
    "Conversion Rates: Group A had a higher purchase conversion rate than Group B, indicating the new system could have performed better.\n",
    "\n",
    "**Recommendation:**\n",
    "\n",
    "\n",
    "Based on the findings from the A/B test, I recommend discontinuing the current test and reverting to the previous recommendation system. The new system could have delivered improved results and demonstrated better conversion rates. Reinstating the old system will be more advantageous for maintaining user engagement and optimizing purchase conversions.\n"
   ]
  }
 ],
 "metadata": {
  "ExecuteTimeLog": [
   {
    "duration": 5006,
    "start_time": "2024-07-20T15:38:13.452Z"
   },
   {
    "duration": 817,
    "start_time": "2024-07-20T15:45:40.698Z"
   },
   {
    "duration": 155,
    "start_time": "2024-07-20T15:46:15.075Z"
   },
   {
    "duration": 291,
    "start_time": "2024-07-20T15:47:47.226Z"
   },
   {
    "duration": 7,
    "start_time": "2024-07-20T15:48:05.297Z"
   },
   {
    "duration": 390,
    "start_time": "2024-07-20T15:49:09.515Z"
   },
   {
    "duration": 87,
    "start_time": "2024-07-20T15:49:20.293Z"
   },
   {
    "duration": 24,
    "start_time": "2024-07-20T15:49:44.926Z"
   },
   {
    "duration": 24,
    "start_time": "2024-07-20T15:50:39.873Z"
   },
   {
    "duration": 22,
    "start_time": "2024-07-20T15:51:02.615Z"
   },
   {
    "duration": 667,
    "start_time": "2024-07-20T15:55:09.270Z"
   },
   {
    "duration": 69,
    "start_time": "2024-07-20T15:56:39.612Z"
   },
   {
    "duration": 40,
    "start_time": "2024-07-20T15:58:16.580Z"
   },
   {
    "duration": 555,
    "start_time": "2024-07-20T16:01:06.750Z"
   },
   {
    "duration": 61,
    "start_time": "2024-07-20T16:01:43.868Z"
   },
   {
    "duration": 60,
    "start_time": "2024-07-20T16:02:03.339Z"
   },
   {
    "duration": 22,
    "start_time": "2024-07-20T16:04:59.375Z"
   },
   {
    "duration": 8,
    "start_time": "2024-07-20T16:05:17.245Z"
   },
   {
    "duration": 16,
    "start_time": "2024-07-20T16:06:20.771Z"
   },
   {
    "duration": 22,
    "start_time": "2024-07-20T16:09:19.278Z"
   },
   {
    "duration": 18,
    "start_time": "2024-07-20T16:10:50.628Z"
   },
   {
    "duration": 21,
    "start_time": "2024-07-20T16:11:00.729Z"
   },
   {
    "duration": 20,
    "start_time": "2024-07-20T16:12:19.041Z"
   },
   {
    "duration": 21,
    "start_time": "2024-07-20T16:12:25.428Z"
   },
   {
    "duration": 28,
    "start_time": "2024-07-20T16:12:31.193Z"
   },
   {
    "duration": 25,
    "start_time": "2024-07-20T16:13:38.704Z"
   },
   {
    "duration": 56,
    "start_time": "2024-07-20T16:13:56.356Z"
   },
   {
    "duration": 41,
    "start_time": "2024-07-20T16:14:05.120Z"
   },
   {
    "duration": 26,
    "start_time": "2024-07-20T16:15:29.423Z"
   },
   {
    "duration": 23,
    "start_time": "2024-07-20T16:15:48.654Z"
   },
   {
    "duration": 10,
    "start_time": "2024-07-20T16:18:00.764Z"
   },
   {
    "duration": 5,
    "start_time": "2024-07-20T16:20:53.965Z"
   },
   {
    "duration": 10,
    "start_time": "2024-07-20T16:21:56.970Z"
   },
   {
    "duration": 26,
    "start_time": "2024-07-20T16:23:15.751Z"
   },
   {
    "duration": 184,
    "start_time": "2024-07-20T16:23:24.130Z"
   },
   {
    "duration": 213,
    "start_time": "2024-07-20T16:24:17.541Z"
   },
   {
    "duration": 32,
    "start_time": "2024-07-20T16:24:30.366Z"
   },
   {
    "duration": 20,
    "start_time": "2024-07-20T16:25:47.965Z"
   },
   {
    "duration": 61,
    "start_time": "2024-07-20T16:26:36.597Z"
   },
   {
    "duration": 32,
    "start_time": "2024-07-20T16:27:41.654Z"
   },
   {
    "duration": 42,
    "start_time": "2024-07-20T16:28:48.039Z"
   },
   {
    "duration": 579,
    "start_time": "2024-07-20T16:32:25.455Z"
   },
   {
    "duration": 154,
    "start_time": "2024-07-20T16:33:45.497Z"
   },
   {
    "duration": 151,
    "start_time": "2024-07-20T16:36:40.344Z"
   },
   {
    "duration": 154,
    "start_time": "2024-07-20T16:47:25.364Z"
   },
   {
    "duration": 148,
    "start_time": "2024-07-20T16:49:10.677Z"
   },
   {
    "duration": 172,
    "start_time": "2024-07-20T16:49:57.553Z"
   },
   {
    "duration": 157,
    "start_time": "2024-07-20T16:50:30.840Z"
   },
   {
    "duration": 143,
    "start_time": "2024-07-20T17:00:41.232Z"
   },
   {
    "duration": 159,
    "start_time": "2024-07-20T17:01:34.498Z"
   },
   {
    "duration": 4998,
    "start_time": "2024-07-20T19:48:10.120Z"
   },
   {
    "duration": 823,
    "start_time": "2024-07-20T19:48:15.122Z"
   },
   {
    "duration": 152,
    "start_time": "2024-07-20T19:48:15.947Z"
   },
   {
    "duration": 293,
    "start_time": "2024-07-20T19:48:16.104Z"
   },
   {
    "duration": 81,
    "start_time": "2024-07-20T19:48:16.400Z"
   },
   {
    "duration": 89,
    "start_time": "2024-07-20T19:48:16.484Z"
   },
   {
    "duration": 8,
    "start_time": "2024-07-20T19:48:16.576Z"
   },
   {
    "duration": 45,
    "start_time": "2024-07-20T19:48:16.588Z"
   },
   {
    "duration": 23,
    "start_time": "2024-07-20T19:48:16.636Z"
   },
   {
    "duration": 9,
    "start_time": "2024-07-20T19:48:16.663Z"
   },
   {
    "duration": 221,
    "start_time": "2024-07-20T19:48:16.675Z"
   },
   {
    "duration": 43,
    "start_time": "2024-07-20T19:48:16.899Z"
   },
   {
    "duration": 14,
    "start_time": "2024-07-20T19:48:16.945Z"
   },
   {
    "duration": 420,
    "start_time": "2024-07-20T19:48:16.962Z"
   },
   {
    "duration": 141,
    "start_time": "2024-07-20T19:53:49.630Z"
   },
   {
    "duration": 152,
    "start_time": "2024-07-20T19:54:23.556Z"
   },
   {
    "duration": 158,
    "start_time": "2024-07-20T19:54:51.482Z"
   },
   {
    "duration": 75,
    "start_time": "2024-07-20T21:25:31.275Z"
   },
   {
    "duration": 36,
    "start_time": "2024-07-20T21:27:44.783Z"
   },
   {
    "duration": 22,
    "start_time": "2024-07-20T21:29:46.468Z"
   },
   {
    "duration": 50,
    "start_time": "2024-07-20T21:32:04.411Z"
   },
   {
    "duration": 34,
    "start_time": "2024-07-20T21:33:36.701Z"
   },
   {
    "duration": 238,
    "start_time": "2024-07-20T21:34:13.151Z"
   },
   {
    "duration": 953,
    "start_time": "2024-07-20T21:34:31.641Z"
   },
   {
    "duration": 422,
    "start_time": "2024-07-20T21:34:42.714Z"
   },
   {
    "duration": 56,
    "start_time": "2024-07-20T21:35:51.316Z"
   },
   {
    "duration": 49,
    "start_time": "2024-07-20T21:35:59.116Z"
   },
   {
    "duration": 178,
    "start_time": "2024-07-20T21:37:06.980Z"
   },
   {
    "duration": 50,
    "start_time": "2024-07-20T21:39:00.804Z"
   },
   {
    "duration": 50,
    "start_time": "2024-07-20T21:39:01.148Z"
   },
   {
    "duration": 64,
    "start_time": "2024-07-20T21:39:13.640Z"
   },
   {
    "duration": 69,
    "start_time": "2024-07-20T21:39:22.514Z"
   },
   {
    "duration": 516,
    "start_time": "2024-07-20T21:41:36.440Z"
   },
   {
    "duration": 701,
    "start_time": "2024-07-20T21:48:33.139Z"
   },
   {
    "duration": 55,
    "start_time": "2024-07-20T21:54:47.963Z"
   },
   {
    "duration": 51,
    "start_time": "2024-07-20T21:55:15.691Z"
   },
   {
    "duration": 107,
    "start_time": "2024-07-20T21:57:02.576Z"
   },
   {
    "duration": 102,
    "start_time": "2024-07-20T21:57:34.616Z"
   },
   {
    "duration": 8,
    "start_time": "2024-07-20T21:58:45.447Z"
   },
   {
    "duration": 173,
    "start_time": "2024-07-20T21:59:13.176Z"
   },
   {
    "duration": 170,
    "start_time": "2024-07-20T22:01:03.474Z"
   },
   {
    "duration": 4821,
    "start_time": "2024-07-21T02:01:41.274Z"
   },
   {
    "duration": 800,
    "start_time": "2024-07-21T02:01:46.099Z"
   },
   {
    "duration": 161,
    "start_time": "2024-07-21T02:01:46.901Z"
   },
   {
    "duration": 294,
    "start_time": "2024-07-21T02:01:47.066Z"
   },
   {
    "duration": 86,
    "start_time": "2024-07-21T02:01:47.365Z"
   },
   {
    "duration": 80,
    "start_time": "2024-07-21T02:01:47.454Z"
   },
   {
    "duration": 8,
    "start_time": "2024-07-21T02:01:47.537Z"
   },
   {
    "duration": 17,
    "start_time": "2024-07-21T02:01:47.547Z"
   },
   {
    "duration": 73,
    "start_time": "2024-07-21T02:01:47.567Z"
   },
   {
    "duration": 22,
    "start_time": "2024-07-21T02:01:47.643Z"
   },
   {
    "duration": 9,
    "start_time": "2024-07-21T02:01:47.667Z"
   },
   {
    "duration": 222,
    "start_time": "2024-07-21T02:01:47.679Z"
   },
   {
    "duration": 42,
    "start_time": "2024-07-21T02:01:47.905Z"
   },
   {
    "duration": 15,
    "start_time": "2024-07-21T02:01:47.954Z"
   },
   {
    "duration": 432,
    "start_time": "2024-07-21T02:01:47.972Z"
   },
   {
    "duration": 55,
    "start_time": "2024-07-21T02:01:48.407Z"
   },
   {
    "duration": 82,
    "start_time": "2024-07-21T02:01:48.465Z"
   },
   {
    "duration": 254,
    "start_time": "2024-07-21T02:01:48.551Z"
   },
   {
    "duration": 58,
    "start_time": "2024-07-21T02:01:48.808Z"
   },
   {
    "duration": 66,
    "start_time": "2024-07-21T02:01:48.869Z"
   },
   {
    "duration": 559,
    "start_time": "2024-07-21T02:01:48.938Z"
   },
   {
    "duration": 805,
    "start_time": "2024-07-21T02:01:49.500Z"
   },
   {
    "duration": 63,
    "start_time": "2024-07-21T02:01:50.308Z"
   },
   {
    "duration": 70,
    "start_time": "2024-07-21T02:01:50.374Z"
   },
   {
    "duration": 114,
    "start_time": "2024-07-21T02:01:50.447Z"
   },
   {
    "duration": 9,
    "start_time": "2024-07-21T02:01:50.564Z"
   },
   {
    "duration": 194,
    "start_time": "2024-07-21T02:01:50.577Z"
   },
   {
    "duration": 189,
    "start_time": "2024-07-21T02:01:50.773Z"
   },
   {
    "duration": 431,
    "start_time": "2024-07-21T02:26:58.395Z"
   },
   {
    "duration": 5,
    "start_time": "2024-07-21T02:59:07.338Z"
   },
   {
    "duration": 5041,
    "start_time": "2024-07-22T16:13:02.766Z"
   },
   {
    "duration": 886,
    "start_time": "2024-07-22T16:13:07.811Z"
   },
   {
    "duration": 151,
    "start_time": "2024-07-22T16:13:08.700Z"
   },
   {
    "duration": 307,
    "start_time": "2024-07-22T16:13:08.857Z"
   },
   {
    "duration": 88,
    "start_time": "2024-07-22T16:13:09.167Z"
   },
   {
    "duration": 86,
    "start_time": "2024-07-22T16:13:09.258Z"
   },
   {
    "duration": 7,
    "start_time": "2024-07-22T16:13:09.347Z"
   },
   {
    "duration": 18,
    "start_time": "2024-07-22T16:13:09.356Z"
   },
   {
    "duration": 70,
    "start_time": "2024-07-22T16:13:09.377Z"
   },
   {
    "duration": 22,
    "start_time": "2024-07-22T16:13:09.453Z"
   },
   {
    "duration": 9,
    "start_time": "2024-07-22T16:13:09.478Z"
   },
   {
    "duration": 265,
    "start_time": "2024-07-22T16:13:09.490Z"
   },
   {
    "duration": 32,
    "start_time": "2024-07-22T16:13:09.759Z"
   },
   {
    "duration": 40,
    "start_time": "2024-07-22T16:13:09.795Z"
   },
   {
    "duration": 437,
    "start_time": "2024-07-22T16:13:09.838Z"
   },
   {
    "duration": 70,
    "start_time": "2024-07-22T16:13:10.279Z"
   },
   {
    "duration": 89,
    "start_time": "2024-07-22T16:13:10.353Z"
   },
   {
    "duration": 278,
    "start_time": "2024-07-22T16:13:10.445Z"
   },
   {
    "duration": 50,
    "start_time": "2024-07-22T16:13:10.729Z"
   },
   {
    "duration": 76,
    "start_time": "2024-07-22T16:13:10.783Z"
   },
   {
    "duration": 554,
    "start_time": "2024-07-22T16:13:10.862Z"
   },
   {
    "duration": 718,
    "start_time": "2024-07-22T16:13:11.423Z"
   },
   {
    "duration": 61,
    "start_time": "2024-07-22T16:13:12.144Z"
   },
   {
    "duration": 124,
    "start_time": "2024-07-22T16:13:12.225Z"
   },
   {
    "duration": 84,
    "start_time": "2024-07-22T16:13:12.352Z"
   },
   {
    "duration": 208,
    "start_time": "2024-07-22T16:13:12.440Z"
   },
   {
    "duration": 212,
    "start_time": "2024-07-22T16:13:12.651Z"
   },
   {
    "duration": 1364,
    "start_time": "2024-07-22T16:20:07.225Z"
   },
   {
    "duration": 580,
    "start_time": "2024-07-22T16:22:54.309Z"
   },
   {
    "duration": 227,
    "start_time": "2024-07-22T16:23:51.149Z"
   },
   {
    "duration": 671,
    "start_time": "2024-07-22T16:24:23.074Z"
   },
   {
    "duration": 831,
    "start_time": "2024-07-22T16:24:49.424Z"
   },
   {
    "duration": 160,
    "start_time": "2024-07-22T16:36:40.236Z"
   },
   {
    "duration": 317,
    "start_time": "2024-07-22T16:36:54.565Z"
   },
   {
    "duration": 4843,
    "start_time": "2024-07-22T23:00:16.985Z"
   },
   {
    "duration": 824,
    "start_time": "2024-07-22T23:00:21.835Z"
   },
   {
    "duration": 142,
    "start_time": "2024-07-22T23:00:22.662Z"
   },
   {
    "duration": 263,
    "start_time": "2024-07-22T23:00:22.834Z"
   },
   {
    "duration": 84,
    "start_time": "2024-07-22T23:00:23.100Z"
   },
   {
    "duration": 76,
    "start_time": "2024-07-22T23:00:23.187Z"
   },
   {
    "duration": 8,
    "start_time": "2024-07-22T23:00:23.266Z"
   },
   {
    "duration": 17,
    "start_time": "2024-07-22T23:00:23.276Z"
   },
   {
    "duration": 69,
    "start_time": "2024-07-22T23:00:23.296Z"
   },
   {
    "duration": 28,
    "start_time": "2024-07-22T23:00:23.372Z"
   },
   {
    "duration": 34,
    "start_time": "2024-07-22T23:00:23.402Z"
   },
   {
    "duration": 203,
    "start_time": "2024-07-22T23:00:23.439Z"
   },
   {
    "duration": 30,
    "start_time": "2024-07-22T23:00:23.647Z"
   },
   {
    "duration": 15,
    "start_time": "2024-07-22T23:00:23.679Z"
   },
   {
    "duration": 410,
    "start_time": "2024-07-22T23:00:23.698Z"
   },
   {
    "duration": 71,
    "start_time": "2024-07-22T23:00:24.111Z"
   },
   {
    "duration": 33,
    "start_time": "2024-07-22T23:00:24.233Z"
   },
   {
    "duration": 259,
    "start_time": "2024-07-22T23:00:24.269Z"
   },
   {
    "duration": 49,
    "start_time": "2024-07-22T23:00:24.533Z"
   },
   {
    "duration": 70,
    "start_time": "2024-07-22T23:00:24.585Z"
   },
   {
    "duration": 536,
    "start_time": "2024-07-22T23:00:24.658Z"
   },
   {
    "duration": 758,
    "start_time": "2024-07-22T23:00:25.197Z"
   },
   {
    "duration": 53,
    "start_time": "2024-07-22T23:00:25.958Z"
   },
   {
    "duration": 111,
    "start_time": "2024-07-22T23:00:26.032Z"
   },
   {
    "duration": 9,
    "start_time": "2024-07-22T23:00:26.146Z"
   },
   {
    "duration": 211,
    "start_time": "2024-07-22T23:00:26.159Z"
   },
   {
    "duration": 188,
    "start_time": "2024-07-22T23:00:26.374Z"
   },
   {
    "duration": 8,
    "start_time": "2024-07-22T23:01:11.980Z"
   },
   {
    "duration": 30,
    "start_time": "2024-07-22T23:02:48.047Z"
   },
   {
    "duration": 34,
    "start_time": "2024-07-22T23:03:13.392Z"
   },
   {
    "duration": 1258,
    "start_time": "2024-07-22T23:03:39.514Z"
   },
   {
    "duration": 80,
    "start_time": "2024-07-22T23:03:58.783Z"
   },
   {
    "duration": 6,
    "start_time": "2024-07-22T23:04:43.533Z"
   },
   {
    "duration": 9,
    "start_time": "2024-07-22T23:05:09.952Z"
   },
   {
    "duration": 1254,
    "start_time": "2024-07-22T23:06:48.913Z"
   },
   {
    "duration": 721,
    "start_time": "2024-07-22T23:06:50.171Z"
   },
   {
    "duration": 152,
    "start_time": "2024-07-22T23:06:51.028Z"
   },
   {
    "duration": 260,
    "start_time": "2024-07-22T23:06:53.979Z"
   },
   {
    "duration": 70,
    "start_time": "2024-07-22T23:06:56.033Z"
   },
   {
    "duration": 7,
    "start_time": "2024-07-22T23:07:03.507Z"
   },
   {
    "duration": 31,
    "start_time": "2024-07-22T23:07:08.031Z"
   },
   {
    "duration": 35,
    "start_time": "2024-07-22T23:07:10.641Z"
   },
   {
    "duration": 17,
    "start_time": "2024-07-22T23:07:15.032Z"
   },
   {
    "duration": 37,
    "start_time": "2024-07-22T23:07:57.608Z"
   },
   {
    "duration": 28,
    "start_time": "2024-07-22T23:09:19.111Z"
   },
   {
    "duration": 8,
    "start_time": "2024-07-22T23:09:19.898Z"
   },
   {
    "duration": 185,
    "start_time": "2024-07-22T23:09:54.354Z"
   },
   {
    "duration": 31,
    "start_time": "2024-07-22T23:09:55.389Z"
   },
   {
    "duration": 43,
    "start_time": "2024-07-22T23:11:10.046Z"
   },
   {
    "duration": 14,
    "start_time": "2024-07-22T23:11:24.507Z"
   },
   {
    "duration": 35,
    "start_time": "2024-07-22T23:11:40.106Z"
   },
   {
    "duration": 60,
    "start_time": "2024-07-22T23:12:08.897Z"
   },
   {
    "duration": 46,
    "start_time": "2024-07-22T23:12:43.621Z"
   },
   {
    "duration": 433,
    "start_time": "2024-07-22T23:13:57.996Z"
   },
   {
    "duration": 47,
    "start_time": "2024-07-22T23:17:52.849Z"
   },
   {
    "duration": 49,
    "start_time": "2024-07-22T23:18:44.928Z"
   },
   {
    "duration": 31,
    "start_time": "2024-07-22T23:18:57.622Z"
   },
   {
    "duration": 247,
    "start_time": "2024-07-22T23:19:01.588Z"
   },
   {
    "duration": 49,
    "start_time": "2024-07-22T23:19:06.043Z"
   },
   {
    "duration": 49,
    "start_time": "2024-07-22T23:19:07.600Z"
   },
   {
    "duration": 514,
    "start_time": "2024-07-22T23:19:08.471Z"
   },
   {
    "duration": 664,
    "start_time": "2024-07-22T23:19:17.229Z"
   },
   {
    "duration": 53,
    "start_time": "2024-07-22T23:19:22.210Z"
   },
   {
    "duration": 98,
    "start_time": "2024-07-22T23:19:26.881Z"
   },
   {
    "duration": 40,
    "start_time": "2024-07-22T23:25:26.786Z"
   },
   {
    "duration": 99,
    "start_time": "2024-07-22T23:25:28.326Z"
   },
   {
    "duration": 9,
    "start_time": "2024-07-22T23:25:30.778Z"
   },
   {
    "duration": 164,
    "start_time": "2024-07-22T23:25:31.965Z"
   },
   {
    "duration": 161,
    "start_time": "2024-07-22T23:25:42.442Z"
   },
   {
    "duration": 10,
    "start_time": "2024-07-22T23:33:33.884Z"
   },
   {
    "duration": 162,
    "start_time": "2024-07-22T23:33:35.984Z"
   },
   {
    "duration": 5301,
    "start_time": "2024-08-14T02:37:36.713Z"
   },
   {
    "duration": 884,
    "start_time": "2024-08-14T02:37:42.018Z"
   },
   {
    "duration": 171,
    "start_time": "2024-08-14T02:37:42.906Z"
   },
   {
    "duration": 335,
    "start_time": "2024-08-14T02:37:49.994Z"
   },
   {
    "duration": 81,
    "start_time": "2024-08-14T02:38:05.155Z"
   },
   {
    "duration": 9,
    "start_time": "2024-08-14T02:38:06.170Z"
   },
   {
    "duration": 35,
    "start_time": "2024-08-14T02:38:06.975Z"
   },
   {
    "duration": 22,
    "start_time": "2024-08-14T02:38:08.372Z"
   },
   {
    "duration": 49,
    "start_time": "2024-08-14T02:38:09.251Z"
   },
   {
    "duration": 27,
    "start_time": "2024-08-14T02:38:10.421Z"
   },
   {
    "duration": 10,
    "start_time": "2024-08-14T02:38:10.883Z"
   },
   {
    "duration": 236,
    "start_time": "2024-08-14T02:38:11.689Z"
   },
   {
    "duration": 39,
    "start_time": "2024-08-14T02:38:12.040Z"
   },
   {
    "duration": 66,
    "start_time": "2024-08-14T02:38:27.668Z"
   },
   {
    "duration": 16,
    "start_time": "2024-08-14T02:38:29.093Z"
   },
   {
    "duration": 459,
    "start_time": "2024-08-14T02:38:30.370Z"
   },
   {
    "duration": 52,
    "start_time": "2024-08-14T02:38:31.718Z"
   },
   {
    "duration": 33,
    "start_time": "2024-08-14T02:38:32.551Z"
   },
   {
    "duration": 275,
    "start_time": "2024-08-14T02:38:32.979Z"
   },
   {
    "duration": 65,
    "start_time": "2024-08-14T02:38:34.416Z"
   },
   {
    "duration": 55,
    "start_time": "2024-08-14T02:38:35.515Z"
   },
   {
    "duration": 578,
    "start_time": "2024-08-14T02:38:35.976Z"
   },
   {
    "duration": 734,
    "start_time": "2024-08-14T02:38:36.828Z"
   },
   {
    "duration": 66,
    "start_time": "2024-08-14T02:38:38.922Z"
   },
   {
    "duration": 155,
    "start_time": "2024-08-14T02:38:39.900Z"
   },
   {
    "duration": 82,
    "start_time": "2024-08-14T02:38:40.792Z"
   },
   {
    "duration": 265,
    "start_time": "2024-08-14T02:38:41.290Z"
   },
   {
    "duration": 225,
    "start_time": "2024-08-14T02:38:42.176Z"
   },
   {
    "duration": 5,
    "start_time": "2024-08-14T03:17:40.620Z"
   },
   {
    "duration": 756,
    "start_time": "2024-08-14T03:17:41.203Z"
   },
   {
    "duration": 145,
    "start_time": "2024-08-14T03:17:45.022Z"
   },
   {
    "duration": 289,
    "start_time": "2024-08-14T03:17:46.987Z"
   },
   {
    "duration": 68,
    "start_time": "2024-08-14T03:17:48.180Z"
   },
   {
    "duration": 8,
    "start_time": "2024-08-14T03:17:48.827Z"
   },
   {
    "duration": 27,
    "start_time": "2024-08-14T03:17:49.498Z"
   },
   {
    "duration": 30,
    "start_time": "2024-08-14T03:17:59.867Z"
   },
   {
    "duration": 18,
    "start_time": "2024-08-14T03:18:01.768Z"
   },
   {
    "duration": 43,
    "start_time": "2024-08-14T03:18:03.563Z"
   },
   {
    "duration": 23,
    "start_time": "2024-08-14T03:18:05.670Z"
   },
   {
    "duration": 11,
    "start_time": "2024-08-14T03:18:06.440Z"
   },
   {
    "duration": 215,
    "start_time": "2024-08-14T03:18:07.649Z"
   },
   {
    "duration": 32,
    "start_time": "2024-08-14T03:18:08.775Z"
   },
   {
    "duration": 60,
    "start_time": "2024-08-14T03:18:12.105Z"
   },
   {
    "duration": 15,
    "start_time": "2024-08-14T03:18:13.812Z"
   },
   {
    "duration": 171,
    "start_time": "2024-08-14T03:18:15.176Z"
   },
   {
    "duration": 52,
    "start_time": "2024-08-14T03:18:17.134Z"
   },
   {
    "duration": 32,
    "start_time": "2024-08-14T03:18:18.239Z"
   },
   {
    "duration": 231,
    "start_time": "2024-08-14T03:18:19.040Z"
   },
   {
    "duration": 51,
    "start_time": "2024-08-14T03:18:21.307Z"
   },
   {
    "duration": 51,
    "start_time": "2024-08-14T03:18:22.575Z"
   },
   {
    "duration": 505,
    "start_time": "2024-08-14T03:18:23.220Z"
   },
   {
    "duration": 676,
    "start_time": "2024-08-14T03:18:25.145Z"
   },
   {
    "duration": 57,
    "start_time": "2024-08-14T03:18:27.619Z"
   },
   {
    "duration": 105,
    "start_time": "2024-08-14T03:18:28.827Z"
   },
   {
    "duration": 10,
    "start_time": "2024-08-14T03:18:30.148Z"
   },
   {
    "duration": 170,
    "start_time": "2024-08-14T03:18:30.867Z"
   },
   {
    "duration": 171,
    "start_time": "2024-08-14T03:18:32.211Z"
   }
  ],
  "kernelspec": {
   "display_name": "Python 3 (ipykernel)",
   "language": "python",
   "name": "python3"
  },
  "language_info": {
   "codemirror_mode": {
    "name": "ipython",
    "version": 3
   },
   "file_extension": ".py",
   "mimetype": "text/x-python",
   "name": "python",
   "nbconvert_exporter": "python",
   "pygments_lexer": "ipython3",
   "version": "3.9.19"
  },
  "toc": {
   "base_numbering": "",
   "nav_menu": {},
   "number_sections": false,
   "sideBar": true,
   "skip_h1_title": false,
   "title_cell": "Table of Contents",
   "title_sidebar": "Contents",
   "toc_cell": false,
   "toc_position": {
    "height": "calc(100% - 180px)",
    "left": "10px",
    "top": "150px",
    "width": "368px"
   },
   "toc_section_display": true,
   "toc_window_display": true
  }
 },
 "nbformat": 4,
 "nbformat_minor": 2
}
